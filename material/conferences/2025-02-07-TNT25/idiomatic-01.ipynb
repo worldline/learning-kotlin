{
 "cells": [
  {
   "metadata": {},
   "cell_type": "markdown",
   "source": [
    "# Idiomatic Kotlin @ TNT 25\n",
    "Date: 2025 / 02 / 07"
   ]
  },
  {
   "metadata": {
    "collapsed": true,
    "ExecuteTime": {
     "end_time": "2025-02-07T12:37:48.996376400Z",
     "start_time": "2025-02-07T12:37:48.794885900Z"
    }
   },
   "cell_type": "code",
   "source": [
    "val event = \"Touraine Tech 2025 \"\n",
    "println(\"J'💖 $event\") // String template"
   ],
   "outputs": [
    {
     "name": "stdout",
     "output_type": "stream",
     "text": [
      "J'💖 Touraine Tech 2025 \r\n"
     ]
    }
   ],
   "execution_count": 1
  },
  {
   "metadata": {
    "ExecuteTime": {
     "end_time": "2025-02-07T12:37:49.270784500Z",
     "start_time": "2025-02-07T12:37:49.044945Z"
    }
   },
   "cell_type": "code",
   "source": [
    "// Extension function: add a function to a class without inhetitance\n",
    "fun String.randomCase(): String {\n",
    "    // If expression\n",
    "    return if (Math.random() > 0.5) uppercase() else lowercase()\n",
    "}\n",
    "println(event.randomCase())"
   ],
   "outputs": [
    {
     "name": "stdout",
     "output_type": "stream",
     "text": [
      "TOURAINE TECH 2025 \r\n"
     ]
    }
   ],
   "execution_count": 2
  },
  {
   "metadata": {
    "ExecuteTime": {
     "end_time": "2025-02-07T12:37:49.885453300Z",
     "start_time": "2025-02-07T12:37:49.286325100Z"
    }
   },
   "cell_type": "code",
   "source": [
    "// Default values for arguments\n",
    "fun String.randomCaseChance(chance: Double = 0.5, offset: Int = 0) =\n",
    "    // Single-expression functions with = (return type is inferred)\n",
    "    (if (Math.random() > chance) uppercase() else lowercase()).drop(offset)\n",
    "// Argument labels\n",
    "println(event.randomCaseChance(offset = 3))\n",
    "println(event.randomCaseChance(\n",
    "    \n",
    "    offset = 2,\n",
    "    chance = 0.9,\n",
    "    )\n",
    ")"
   ],
   "outputs": [
    {
     "name": "stdout",
     "output_type": "stream",
     "text": [
      "raine tech 2025 \r\n",
      "uraine tech 2025 \r\n"
     ]
    }
   ],
   "execution_count": 3
  },
  {
   "metadata": {
    "ExecuteTime": {
     "end_time": "2025-02-07T12:37:50.125248200Z",
     "start_time": "2025-02-07T12:37:49.919997500Z"
    }
   },
   "cell_type": "code",
   "source": [
    "// Functions are 1st class citizen\n",
    "fun String.transformToInt(transformer: (String) -> Int) = transformer(this)\n",
    "// Parenthesis can be omitted for last lambda\n",
    "// \"it\" is implicit for single-argument lambdas\n",
    "// return is optionnal (in majot cases)\n",
    "val count = event.transformToInt { it.length }\n",
    "println(count)"
   ],
   "outputs": [
    {
     "name": "stdout",
     "output_type": "stream",
     "text": [
      "19\r\n"
     ]
    }
   ],
   "execution_count": 4
  },
  {
   "metadata": {
    "ExecuteTime": {
     "end_time": "2025-02-07T12:37:50.285322500Z",
     "start_time": "2025-02-07T12:37:50.137263Z"
    }
   },
   "cell_type": "code",
   "source": [
    "typealias ST = String.() -> String\n",
    "fun String.transformToString(transformer: ST) = transformer(this)\n",
    "// String.() -> String means that the lambda has access to the string as this\n",
    "// Allows to define DSL\n",
    "val uppercased = event.transformToString { uppercase() }\n",
    "print(\"Uppercased: $event\")"
   ],
   "outputs": [
    {
     "name": "stdout",
     "output_type": "stream",
     "text": [
      "Uppercased: Touraine Tech 2025 "
     ]
    }
   ],
   "execution_count": 5
  },
  {
   "metadata": {
    "ExecuteTime": {
     "end_time": "2025-02-07T12:37:51.167204200Z",
     "start_time": "2025-02-07T12:37:50.306613600Z"
    }
   },
   "cell_type": "code",
   "source": [
    "// Filter, map, reduce out of the box (no need to convert to stream)\n",
    "println(\n",
    "    event.map { if (Math.random() > 0.5) it.uppercaseChar() else it.lowercaseChar() }.joinToString()\n",
    ")\n",
    "// More operators available\n",
    "println(\n",
    "    event.zip(\"2024\") { left, right -> \"$left/$right\" }\n",
    ")"
   ],
   "outputs": [
    {
     "name": "stdout",
     "output_type": "stream",
     "text": [
      "t, O, u, r, A, i, N, E,  , t, E, C, h,  , 2, 0, 2, 5,  \r\n",
      "[T/2, o/0, u/2, r/4]\r\n"
     ]
    }
   ],
   "execution_count": 6
  },
  {
   "metadata": {
    "ExecuteTime": {
     "end_time": "2025-02-07T12:37:52.001613300Z",
     "start_time": "2025-02-07T12:37:51.200816400Z"
    }
   },
   "cell_type": "code",
   "source": [
    "// ? Means that the argument can be null\n",
    "fun getUppercaseName(dev: Map<String, String>?): String {\n",
    "    if (dev == null){\n",
    "        return \"NONE\"\n",
    "    }\n",
    "    // Here dev is casted to Map<String, String>\n",
    "    // ?: is the elvis operator\n",
    "    return (dev[\"name\"] ?: \"NONE\").uppercase()\n",
    "}\n",
    "fun getUppercaseNameSe(dev: Map<String, String>?) = dev?.get(\"name\")?.uppercase() ?: \"NONE\"\n",
    "val dev = mapOf(\"name\" to \"Yassine\", \"event\" to \"TNT25\")\n",
    "println(dev)\n",
    "println(getUppercaseName(dev))\n",
    "println(getUppercaseNameSe(dev))"
   ],
   "outputs": [
    {
     "name": "stdout",
     "output_type": "stream",
     "text": [
      "{name=Yassine, event=TNT25}\r\n",
      "YASSINE\r\n",
      "YASSINE\r\n"
     ]
    }
   ],
   "execution_count": 7
  }
 ],
 "metadata": {
  "kernelspec": {
   "display_name": "Kotlin",
   "language": "kotlin",
   "name": "kotlin"
  },
  "language_info": {
   "name": "kotlin",
   "version": "1.9.23",
   "mimetype": "text/x-kotlin",
   "file_extension": ".kt",
   "pygments_lexer": "kotlin",
   "codemirror_mode": "text/x-kotlin",
   "nbconvert_exporter": ""
  }
 },
 "nbformat": 4,
 "nbformat_minor": 0
}
