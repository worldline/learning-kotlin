{
 "cells": [
  {
   "attachments": {},
   "cell_type": "markdown",
   "metadata": {
    "datalore": {
     "hide_input_from_viewers": false,
     "hide_output_from_viewers": false,
     "node_id": "yvyRyH288A7MoqtYzoauPM",
     "report_properties": {
      "rowId": "0ON8yI917hwj8FeK0pQsky"
     },
     "type": "MD"
    }
   },
   "source": [
    "# Libraries API Guide\n",
    "[Documentation](https://github.com/Kotlin/kotlin-jupyter/blob/master/docs/libraries.md)"
   ]
  },
  {
   "cell_type": "code",
   "execution_count": 2,
   "metadata": {
    "datalore": {
     "hide_input_from_viewers": true,
     "hide_output_from_viewers": true,
     "node_id": "473vDoAud72LeO1mGYfdT5",
     "type": "CODE"
    }
   },
   "outputs": [
    {
     "data": {
      "text/plain": [
       "0.12.0.128"
      ]
     },
     "execution_count": 2,
     "metadata": {},
     "output_type": "execute_result"
    }
   ],
   "source": [
    "notebook.kernelVersion"
   ]
  },
  {
   "attachments": {},
   "cell_type": "markdown",
   "metadata": {
    "datalore": {
     "hide_input_from_viewers": false,
     "hide_output_from_viewers": false,
     "node_id": "3EWan5WOD4obPRmJJoHRyl",
     "report_properties": {
      "rowId": "vS92wiTvpFntHSEMCrr5H9"
     },
     "type": "MD"
    }
   },
   "source": [
    "## Dependencies and imports\n",
    "\n",
    "Assume we want to add binary dependency on some library.\n",
    "In this case let's add JAR coordinates of this library to the `dependencies`\n",
    "array of our descriptor. If it is not on Maven Central, we add repository\n",
    "(or repositories) where this dependency is located. Also, we can add\n",
    "default imports"
   ]
  },
  {
   "cell_type": "code",
   "execution_count": 3,
   "metadata": {
    "datalore": {
     "hide_input_from_viewers": false,
     "hide_output_from_viewers": false,
     "node_id": "0CWJquaSDtgDzeUv0DimCZ",
     "report_properties": {
      "rowId": "3XSS7u0TNIQpjxsTLZoRig"
     },
     "type": "CODE"
    }
   },
   "outputs": [
    {
     "name": "stderr",
     "output_type": "stream",
     "text": [
      "The problem is found in one of the loaded libraries: check library imports, dependencies and repositories\n",
      "Error compiling code:\n",
      "@file:Repository(\"https://maven.pkg.github.com/ileasile/kformat\")\n",
      "@file:DependsOn(\"org.ileasile:kformat:0.0.2\")\n",
      "import org.ileasile.kformat.*\n",
      "\n",
      "\n",
      "Errors:\n",
      "Failed to resolve [org.ileasile:kformat:0.0.2]:\n",
      "File 'org.ileasile:kformat:0.0.2' not found\n",
      "ArtifactResolutionException: Could not transfer artifact org.ileasile:kformat:pom:0.0.2 from/to https___maven.pkg.github.com_ileasile_kformat (https://maven.pkg.github.com/ileasile/kformat): authentication failed for https://maven.pkg.github.com/ileasile/kformat/org/ileasile/kformat/0.0.2/kformat-0.0.2.pom, status: 401 Unauthorized\n",
      "\n",
      "org.jetbrains.kotlinx.jupyter.exceptions.ReplLibraryException: The problem is found in one of the loaded libraries: check library imports, dependencies and repositories\n",
      "\tat org.jetbrains.kotlinx.jupyter.exceptions.ReplLibraryExceptionKt.rethrowAsLibraryException(ReplLibraryException.kt:32)\n",
      "\tat org.jetbrains.kotlinx.jupyter.repl.impl.CellExecutorImpl$ExecutionContext.doAddLibraries(CellExecutorImpl.kt:152)\n",
      "\tat org.jetbrains.kotlinx.jupyter.repl.impl.CellExecutorImpl$ExecutionContext.addLibraries(CellExecutorImpl.kt:187)\n",
      "\tat org.jetbrains.kotlinx.jupyter.api.KotlinKernelHost$DefaultImpls.addLibrary(KotlinKernelHost.kt:42)\n",
      "\tat org.jetbrains.kotlinx.jupyter.repl.impl.CellExecutorImpl$ExecutionContext.addLibrary(CellExecutorImpl.kt:132)\n",
      "\tat jupyter.kotlin.CellExtensionsKt$loadLibraryDescriptor$1.invoke(cellExtensions.kt:70)\n",
      "\tat jupyter.kotlin.CellExtensionsKt$loadLibraryDescriptor$1.invoke(cellExtensions.kt:69)\n",
      "\tat org.jetbrains.kotlinx.jupyter.repl.impl.CellExecutorImpl$ExecutionContext.execute(CellExecutorImpl.kt:252)\n",
      "\tat org.jetbrains.kotlinx.jupyter.repl.impl.CellExecutorImpl$ExecutionContext.runChild(CellExecutorImpl.kt:145)\n",
      "\tat org.jetbrains.kotlinx.jupyter.repl.impl.CellExecutorImpl$ExecutionContext.processExecutionQueue(CellExecutorImpl.kt:247)\n",
      "\tat org.jetbrains.kotlinx.jupyter.repl.impl.CellExecutorImpl.execute(CellExecutorImpl.kt:122)\n",
      "\tat org.jetbrains.kotlinx.jupyter.repl.execution.CellExecutor$DefaultImpls.execute$default(CellExecutor.kt:13)\n",
      "\tat org.jetbrains.kotlinx.jupyter.repl.impl.ReplForJupyterImpl.evaluateUserCode(ReplForJupyterImpl.kt:480)\n",
      "\tat org.jetbrains.kotlinx.jupyter.repl.impl.ReplForJupyterImpl.access$evaluateUserCode(ReplForJupyterImpl.kt:125)\n",
      "\tat org.jetbrains.kotlinx.jupyter.repl.impl.ReplForJupyterImpl$evalEx$1.invoke(ReplForJupyterImpl.kt:378)\n",
      "\tat org.jetbrains.kotlinx.jupyter.repl.impl.ReplForJupyterImpl$evalEx$1.invoke(ReplForJupyterImpl.kt:375)\n",
      "\tat org.jetbrains.kotlinx.jupyter.repl.impl.ReplForJupyterImpl.withEvalContext(ReplForJupyterImpl.kt:359)\n",
      "\tat org.jetbrains.kotlinx.jupyter.repl.impl.ReplForJupyterImpl.evalEx(ReplForJupyterImpl.kt:375)\n",
      "\tat org.jetbrains.kotlinx.jupyter.messaging.IdeCompatibleMessageRequestProcessor$processExecuteRequest$1$response$1$1.invoke(IdeCompatibleMessageRequestProcessor.kt:124)\n",
      "\tat org.jetbrains.kotlinx.jupyter.messaging.IdeCompatibleMessageRequestProcessor$processExecuteRequest$1$response$1$1.invoke(IdeCompatibleMessageRequestProcessor.kt:123)\n",
      "\tat org.jetbrains.kotlinx.jupyter.execution.JupyterExecutorImpl$runExecution$execThread$1.invoke(JupyterExecutorImpl.kt:26)\n",
      "\tat org.jetbrains.kotlinx.jupyter.execution.JupyterExecutorImpl$runExecution$execThread$1.invoke(JupyterExecutorImpl.kt:21)\n",
      "\tat kotlin.concurrent.ThreadsKt$thread$thread$1.run(Thread.kt:30)\n",
      "Caused by: org.jetbrains.kotlinx.jupyter.exceptions.ReplCompilerException: Failed to resolve [org.ileasile:kformat:0.0.2]:\n",
      "File 'org.ileasile:kformat:0.0.2' not found\n",
      "ArtifactResolutionException: Could not transfer artifact org.ileasile:kformat:pom:0.0.2 from/to https___maven.pkg.github.com_ileasile_kformat (https://maven.pkg.github.com/ileasile/kformat): authentication failed for https://maven.pkg.github.com/ileasile/kformat/org/ileasile/kformat/0.0.2/kformat-0.0.2.pom, status: 401 Unauthorized\n",
      "\tat org.jetbrains.kotlinx.jupyter.repl.impl.JupyterCompilerImpl.compileSync(JupyterCompilerImpl.kt:182)\n",
      "\tat org.jetbrains.kotlinx.jupyter.repl.impl.InternalEvaluatorImpl.eval(InternalEvaluatorImpl.kt:102)\n",
      "\tat org.jetbrains.kotlinx.jupyter.repl.impl.CellExecutorImpl$execute$1$result$1.invoke(CellExecutorImpl.kt:73)\n",
      "\tat org.jetbrains.kotlinx.jupyter.repl.impl.CellExecutorImpl$execute$1$result$1.invoke(CellExecutorImpl.kt:71)\n",
      "\tat org.jetbrains.kotlinx.jupyter.repl.impl.ReplForJupyterImpl.withHost(ReplForJupyterImpl.kt:646)\n",
      "\tat org.jetbrains.kotlinx.jupyter.repl.impl.CellExecutorImpl.execute(CellExecutorImpl.kt:71)\n",
      "\tat org.jetbrains.kotlinx.jupyter.repl.execution.CellExecutor$DefaultImpls.execute$default(CellExecutor.kt:13)\n",
      "\tat org.jetbrains.kotlinx.jupyter.repl.impl.CellExecutorImpl$ExecutionContext.execute(CellExecutorImpl.kt:225)\n",
      "\tat org.jetbrains.kotlinx.jupyter.api.libraries.CodeExecutionCallback.invoke(CodeExecutionCallback.kt:8)\n",
      "\tat org.jetbrains.kotlinx.jupyter.api.libraries.CodeExecutionCallback.invoke(CodeExecutionCallback.kt:6)\n",
      "\tat org.jetbrains.kotlinx.jupyter.repl.impl.CellExecutorImpl$ExecutionContext.execute(CellExecutorImpl.kt:252)\n",
      "\tat org.jetbrains.kotlinx.jupyter.repl.impl.CellExecutorImpl$ExecutionContext.runChild(CellExecutorImpl.kt:145)\n",
      "\tat org.jetbrains.kotlinx.jupyter.repl.impl.CellExecutorImpl$ExecutionContext.runChild(CellExecutorImpl.kt:141)\n",
      "\tat org.jetbrains.kotlinx.jupyter.repl.impl.CellExecutorImpl$ExecutionContext.access$runChild(CellExecutorImpl.kt:132)\n",
      "\tat org.jetbrains.kotlinx.jupyter.repl.impl.CellExecutorImpl$ExecutionContext$doAddLibraries$1.invoke(CellExecutorImpl.kt:153)\n",
      "\tat org.jetbrains.kotlinx.jupyter.repl.impl.CellExecutorImpl$ExecutionContext$doAddLibraries$1.invoke(CellExecutorImpl.kt:152)\n",
      "\tat org.jetbrains.kotlinx.jupyter.exceptions.ReplLibraryExceptionKt.rethrowAsLibraryException(ReplLibraryException.kt:30)\n",
      "\t... 22 more\n",
      "\n"
     ]
    }
   ],
   "source": [
    "val dollar = \"$\"\n",
    "loadLibraryDescriptor(\n",
    "    \"\"\"\n",
    "    {\n",
    "        \"dependencies\": [\n",
    "            \"org.ileasile:kformat:${dollar}libVersion\"\n",
    "        ],\n",
    "        \"repositories\": [\n",
    "            \"https://maven.pkg.github.com/ileasile/kformat\"\n",
    "        ],\n",
    "        \"imports\": [\n",
    "            \"org.ileasile.kformat.*\"\n",
    "        ],\n",
    "        \"properties\": {\n",
    "            \"libVersion\": \"0.0.1\"\n",
    "        }\n",
    "    }\n",
    "    \"\"\",\n",
    "    mapOf(\"libVersion\" to \"0.0.2\")\n",
    ")"
   ]
  },
  {
   "attachments": {},
   "cell_type": "markdown",
   "metadata": {
    "datalore": {
     "hide_input_from_viewers": false,
     "hide_output_from_viewers": false,
     "node_id": "V4uuN3nNDZXE311jEAydWG",
     "report_properties": {
      "rowId": "9aQzeJN8aSKkrM8z1a8Acs"
     },
     "type": "MD"
    }
   },
   "source": [
    "Huh, we've got 401(Unauthorized). That's because reading from GitHub Packages\n",
    "requires authorization. We can add authorization for our repository in descriptor."
   ]
  },
  {
   "cell_type": "code",
   "execution_count": 4,
   "metadata": {
    "datalore": {
     "hide_input_from_viewers": false,
     "hide_output_from_viewers": false,
     "node_id": "6yN7sFRwduz7klnJgPrB7X",
     "report_properties": {
      "rowId": "XiD8FUF2KgFyi8XBVKQpnU"
     },
     "type": "CODE"
    }
   },
   "outputs": [],
   "source": [
    "val readToken = \"ghp_<your read token>\""
   ]
  },
  {
   "cell_type": "code",
   "execution_count": 5,
   "metadata": {
    "datalore": {
     "hide_input_from_viewers": false,
     "hide_output_from_viewers": false,
     "node_id": "ICuKkECCy5fwEPqwa2R1CX",
     "report_properties": {
      "rowId": "guaD3yArd3wnoMlMhxLe4X"
     },
     "type": "CODE"
    }
   },
   "outputs": [
    {
     "name": "stderr",
     "output_type": "stream",
     "text": [
      "The problem is found in one of the loaded libraries: check library imports, dependencies and repositories\n",
      "Error compiling code:\n",
      "@file:Repository(\"https://maven.pkg.github.com/ileasile/kformat\", username=\"ileasile\", password=\"ghp_<your read token>\")\n",
      "@file:DependsOn(\"org.ileasile:kformat:0.0.2\")\n",
      "import org.ileasile.kformat.*\n",
      "\n",
      "\n",
      "Errors:\n",
      "Failed to resolve [org.ileasile:kformat:0.0.2]:\n",
      "File 'org.ileasile:kformat:0.0.2' not found\n",
      "ArtifactResolutionException: Could not transfer artifact org.ileasile:kformat:pom:0.0.2 from/to https___maven.pkg.github.com_ileasile_kformat (https://maven.pkg.github.com/ileasile/kformat): authentication failed for https://maven.pkg.github.com/ileasile/kformat/org/ileasile/kformat/0.0.2/kformat-0.0.2.pom, status: 401 Unauthorized\n",
      "\n",
      "org.jetbrains.kotlinx.jupyter.exceptions.ReplLibraryException: The problem is found in one of the loaded libraries: check library imports, dependencies and repositories\n",
      "\tat org.jetbrains.kotlinx.jupyter.exceptions.ReplLibraryExceptionKt.rethrowAsLibraryException(ReplLibraryException.kt:32)\n",
      "\tat org.jetbrains.kotlinx.jupyter.repl.impl.CellExecutorImpl$ExecutionContext.doAddLibraries(CellExecutorImpl.kt:152)\n",
      "\tat org.jetbrains.kotlinx.jupyter.repl.impl.CellExecutorImpl$ExecutionContext.addLibraries(CellExecutorImpl.kt:187)\n",
      "\tat org.jetbrains.kotlinx.jupyter.api.KotlinKernelHost$DefaultImpls.addLibrary(KotlinKernelHost.kt:42)\n",
      "\tat org.jetbrains.kotlinx.jupyter.repl.impl.CellExecutorImpl$ExecutionContext.addLibrary(CellExecutorImpl.kt:132)\n",
      "\tat jupyter.kotlin.CellExtensionsKt$loadLibraryDescriptor$1.invoke(cellExtensions.kt:70)\n",
      "\tat jupyter.kotlin.CellExtensionsKt$loadLibraryDescriptor$1.invoke(cellExtensions.kt:69)\n",
      "\tat org.jetbrains.kotlinx.jupyter.repl.impl.CellExecutorImpl$ExecutionContext.execute(CellExecutorImpl.kt:252)\n",
      "\tat org.jetbrains.kotlinx.jupyter.repl.impl.CellExecutorImpl$ExecutionContext.runChild(CellExecutorImpl.kt:145)\n",
      "\tat org.jetbrains.kotlinx.jupyter.repl.impl.CellExecutorImpl$ExecutionContext.processExecutionQueue(CellExecutorImpl.kt:247)\n",
      "\tat org.jetbrains.kotlinx.jupyter.repl.impl.CellExecutorImpl.execute(CellExecutorImpl.kt:122)\n",
      "\tat org.jetbrains.kotlinx.jupyter.repl.execution.CellExecutor$DefaultImpls.execute$default(CellExecutor.kt:13)\n",
      "\tat org.jetbrains.kotlinx.jupyter.repl.impl.ReplForJupyterImpl.evaluateUserCode(ReplForJupyterImpl.kt:480)\n",
      "\tat org.jetbrains.kotlinx.jupyter.repl.impl.ReplForJupyterImpl.access$evaluateUserCode(ReplForJupyterImpl.kt:125)\n",
      "\tat org.jetbrains.kotlinx.jupyter.repl.impl.ReplForJupyterImpl$evalEx$1.invoke(ReplForJupyterImpl.kt:378)\n",
      "\tat org.jetbrains.kotlinx.jupyter.repl.impl.ReplForJupyterImpl$evalEx$1.invoke(ReplForJupyterImpl.kt:375)\n",
      "\tat org.jetbrains.kotlinx.jupyter.repl.impl.ReplForJupyterImpl.withEvalContext(ReplForJupyterImpl.kt:359)\n",
      "\tat org.jetbrains.kotlinx.jupyter.repl.impl.ReplForJupyterImpl.evalEx(ReplForJupyterImpl.kt:375)\n",
      "\tat org.jetbrains.kotlinx.jupyter.messaging.IdeCompatibleMessageRequestProcessor$processExecuteRequest$1$response$1$1.invoke(IdeCompatibleMessageRequestProcessor.kt:124)\n",
      "\tat org.jetbrains.kotlinx.jupyter.messaging.IdeCompatibleMessageRequestProcessor$processExecuteRequest$1$response$1$1.invoke(IdeCompatibleMessageRequestProcessor.kt:123)\n",
      "\tat org.jetbrains.kotlinx.jupyter.execution.JupyterExecutorImpl$runExecution$execThread$1.invoke(JupyterExecutorImpl.kt:26)\n",
      "\tat org.jetbrains.kotlinx.jupyter.execution.JupyterExecutorImpl$runExecution$execThread$1.invoke(JupyterExecutorImpl.kt:21)\n",
      "\tat kotlin.concurrent.ThreadsKt$thread$thread$1.run(Thread.kt:30)\n",
      "Caused by: org.jetbrains.kotlinx.jupyter.exceptions.ReplCompilerException: Failed to resolve [org.ileasile:kformat:0.0.2]:\n",
      "File 'org.ileasile:kformat:0.0.2' not found\n",
      "ArtifactResolutionException: Could not transfer artifact org.ileasile:kformat:pom:0.0.2 from/to https___maven.pkg.github.com_ileasile_kformat (https://maven.pkg.github.com/ileasile/kformat): authentication failed for https://maven.pkg.github.com/ileasile/kformat/org/ileasile/kformat/0.0.2/kformat-0.0.2.pom, status: 401 Unauthorized\n",
      "\tat org.jetbrains.kotlinx.jupyter.repl.impl.JupyterCompilerImpl.compileSync(JupyterCompilerImpl.kt:182)\n",
      "\tat org.jetbrains.kotlinx.jupyter.repl.impl.InternalEvaluatorImpl.eval(InternalEvaluatorImpl.kt:102)\n",
      "\tat org.jetbrains.kotlinx.jupyter.repl.impl.CellExecutorImpl$execute$1$result$1.invoke(CellExecutorImpl.kt:73)\n",
      "\tat org.jetbrains.kotlinx.jupyter.repl.impl.CellExecutorImpl$execute$1$result$1.invoke(CellExecutorImpl.kt:71)\n",
      "\tat org.jetbrains.kotlinx.jupyter.repl.impl.ReplForJupyterImpl.withHost(ReplForJupyterImpl.kt:646)\n",
      "\tat org.jetbrains.kotlinx.jupyter.repl.impl.CellExecutorImpl.execute(CellExecutorImpl.kt:71)\n",
      "\tat org.jetbrains.kotlinx.jupyter.repl.execution.CellExecutor$DefaultImpls.execute$default(CellExecutor.kt:13)\n",
      "\tat org.jetbrains.kotlinx.jupyter.repl.impl.CellExecutorImpl$ExecutionContext.execute(CellExecutorImpl.kt:225)\n",
      "\tat org.jetbrains.kotlinx.jupyter.api.libraries.CodeExecutionCallback.invoke(CodeExecutionCallback.kt:8)\n",
      "\tat org.jetbrains.kotlinx.jupyter.api.libraries.CodeExecutionCallback.invoke(CodeExecutionCallback.kt:6)\n",
      "\tat org.jetbrains.kotlinx.jupyter.repl.impl.CellExecutorImpl$ExecutionContext.execute(CellExecutorImpl.kt:252)\n",
      "\tat org.jetbrains.kotlinx.jupyter.repl.impl.CellExecutorImpl$ExecutionContext.runChild(CellExecutorImpl.kt:145)\n",
      "\tat org.jetbrains.kotlinx.jupyter.repl.impl.CellExecutorImpl$ExecutionContext.runChild(CellExecutorImpl.kt:141)\n",
      "\tat org.jetbrains.kotlinx.jupyter.repl.impl.CellExecutorImpl$ExecutionContext.access$runChild(CellExecutorImpl.kt:132)\n",
      "\tat org.jetbrains.kotlinx.jupyter.repl.impl.CellExecutorImpl$ExecutionContext$doAddLibraries$1.invoke(CellExecutorImpl.kt:153)\n",
      "\tat org.jetbrains.kotlinx.jupyter.repl.impl.CellExecutorImpl$ExecutionContext$doAddLibraries$1.invoke(CellExecutorImpl.kt:152)\n",
      "\tat org.jetbrains.kotlinx.jupyter.exceptions.ReplLibraryExceptionKt.rethrowAsLibraryException(ReplLibraryException.kt:30)\n",
      "\t... 22 more\n",
      "\n"
     ]
    }
   ],
   "source": [
    "loadLibraryDescriptor(\"\"\"\n",
    "    {\n",
    "        \"dependencies\": [\n",
    "            \"org.ileasile:kformat:0.0.2\"\n",
    "        ],\n",
    "        \"repositories\": [\n",
    "            {\n",
    "                \"path\": \"https://maven.pkg.github.com/ileasile/kformat\",\n",
    "                \"username\": \"ileasile\",\n",
    "                \"password\": \"$readToken\"\n",
    "            }\n",
    "        ],\n",
    "        \"imports\": [\n",
    "            \"org.ileasile.kformat.*\"\n",
    "        ]\n",
    "    }\n",
    "\"\"\")"
   ]
  },
  {
   "cell_type": "code",
   "execution_count": 6,
   "metadata": {
    "datalore": {
     "hide_input_from_viewers": false,
     "hide_output_from_viewers": false,
     "node_id": "3Mn7l2KWXSxKCw6uMPijdM",
     "report_properties": {
      "rowId": "iUfleWm1l7UrnMboME6qdN"
     },
     "type": "CODE"
    }
   },
   "outputs": [
    {
     "name": "stderr",
     "output_type": "stream",
     "text": [
      "Line_7.jupyter.kts (1:1 - 8) Unresolved reference: kFormat\n",
      "Line_7.jupyter.kts (2:5 - 10) Unresolved reference: color\n",
      "Line_7.jupyter.kts (2:11 - 21) Unresolved reference: BasicColor\n",
      "Line_7.jupyter.kts (3:9 - 15) Unresolved reference: italic\n",
      "Line_7.jupyter.kts (4:13 - 14) Unresolved reference: +"
     ]
    }
   ],
   "source": [
    "kFormat {\n",
    "    color(BasicColor.Red) {\n",
    "        italic {\n",
    "            + \"Red italic text\"\n",
    "        }\n",
    "    }\n",
    "}.asAnsiEscaped()"
   ]
  },
  {
   "attachments": {},
   "cell_type": "markdown",
   "metadata": {
    "datalore": {
     "hide_input_from_viewers": false,
     "hide_output_from_viewers": false,
     "node_id": "Yaijjy4T9JqYtAASLGAqul",
     "report_properties": {
      "rowId": "SZQ4DmXm4LKPZXSWKa2FUa"
     },
     "type": "MD"
    }
   },
   "source": [
    "Another way to do the same thing using Kotlin API:"
   ]
  },
  {
   "cell_type": "code",
   "execution_count": 7,
   "metadata": {
    "datalore": {
     "hide_input_from_viewers": false,
     "hide_output_from_viewers": false,
     "node_id": "XcH81I9hFMNzCHqxiMEJUE",
     "report_properties": {
      "rowId": "SqdpEchM5GWiblQZFplRpl"
     },
     "type": "CODE"
    }
   },
   "outputs": [
    {
     "name": "stderr",
     "output_type": "stream",
     "text": [
      "The problem is found in one of the loaded libraries: check library imports, dependencies and repositories\n",
      "Error compiling code:\n",
      "@file:Repository(\"https://maven.pkg.github.com/ileasile/kformat\", username=\"ileasile\", password=\"ghp_<your read token>\")\n",
      "@file:DependsOn(\"org.ileasile:kformat:0.0.2\")\n",
      "import org.ileasile.kformat.*\n",
      "\n",
      "\n",
      "Errors:\n",
      "Failed to resolve [org.ileasile:kformat:0.0.2]:\n",
      "File 'org.ileasile:kformat:0.0.2' not found\n",
      "ArtifactResolutionException: Could not transfer artifact org.ileasile:kformat:pom:0.0.2 from/to https___maven.pkg.github.com_ileasile_kformat (https://maven.pkg.github.com/ileasile/kformat): authentication failed for https://maven.pkg.github.com/ileasile/kformat/org/ileasile/kformat/0.0.2/kformat-0.0.2.pom, status: 401 Unauthorized\n",
      "\n",
      "org.jetbrains.kotlinx.jupyter.exceptions.ReplLibraryException: The problem is found in one of the loaded libraries: check library imports, dependencies and repositories\n",
      "\tat org.jetbrains.kotlinx.jupyter.exceptions.ReplLibraryExceptionKt.rethrowAsLibraryException(ReplLibraryException.kt:32)\n",
      "\tat org.jetbrains.kotlinx.jupyter.repl.impl.CellExecutorImpl$ExecutionContext.doAddLibraries(CellExecutorImpl.kt:152)\n",
      "\tat org.jetbrains.kotlinx.jupyter.repl.impl.CellExecutorImpl$ExecutionContext.addLibraries(CellExecutorImpl.kt:187)\n",
      "\tat org.jetbrains.kotlinx.jupyter.api.KotlinKernelHost$DefaultImpls.addLibrary(KotlinKernelHost.kt:42)\n",
      "\tat org.jetbrains.kotlinx.jupyter.repl.impl.CellExecutorImpl$ExecutionContext.addLibrary(CellExecutorImpl.kt:132)\n",
      "\tat jupyter.kotlin.CellExtensionsKt$USE$1.invoke(cellExtensions.kt:23)\n",
      "\tat jupyter.kotlin.CellExtensionsKt$USE$1.invoke(cellExtensions.kt:23)\n",
      "\tat org.jetbrains.kotlinx.jupyter.repl.impl.CellExecutorImpl$ExecutionContext.execute(CellExecutorImpl.kt:252)\n",
      "\tat org.jetbrains.kotlinx.jupyter.repl.impl.CellExecutorImpl$ExecutionContext.runChild(CellExecutorImpl.kt:145)\n",
      "\tat org.jetbrains.kotlinx.jupyter.repl.impl.CellExecutorImpl$ExecutionContext.processExecutionQueue(CellExecutorImpl.kt:247)\n",
      "\tat org.jetbrains.kotlinx.jupyter.repl.impl.CellExecutorImpl.execute(CellExecutorImpl.kt:122)\n",
      "\tat org.jetbrains.kotlinx.jupyter.repl.execution.CellExecutor$DefaultImpls.execute$default(CellExecutor.kt:13)\n",
      "\tat org.jetbrains.kotlinx.jupyter.repl.impl.ReplForJupyterImpl.evaluateUserCode(ReplForJupyterImpl.kt:480)\n",
      "\tat org.jetbrains.kotlinx.jupyter.repl.impl.ReplForJupyterImpl.access$evaluateUserCode(ReplForJupyterImpl.kt:125)\n",
      "\tat org.jetbrains.kotlinx.jupyter.repl.impl.ReplForJupyterImpl$evalEx$1.invoke(ReplForJupyterImpl.kt:378)\n",
      "\tat org.jetbrains.kotlinx.jupyter.repl.impl.ReplForJupyterImpl$evalEx$1.invoke(ReplForJupyterImpl.kt:375)\n",
      "\tat org.jetbrains.kotlinx.jupyter.repl.impl.ReplForJupyterImpl.withEvalContext(ReplForJupyterImpl.kt:359)\n",
      "\tat org.jetbrains.kotlinx.jupyter.repl.impl.ReplForJupyterImpl.evalEx(ReplForJupyterImpl.kt:375)\n",
      "\tat org.jetbrains.kotlinx.jupyter.messaging.IdeCompatibleMessageRequestProcessor$processExecuteRequest$1$response$1$1.invoke(IdeCompatibleMessageRequestProcessor.kt:124)\n",
      "\tat org.jetbrains.kotlinx.jupyter.messaging.IdeCompatibleMessageRequestProcessor$processExecuteRequest$1$response$1$1.invoke(IdeCompatibleMessageRequestProcessor.kt:123)\n",
      "\tat org.jetbrains.kotlinx.jupyter.execution.JupyterExecutorImpl$runExecution$execThread$1.invoke(JupyterExecutorImpl.kt:26)\n",
      "\tat org.jetbrains.kotlinx.jupyter.execution.JupyterExecutorImpl$runExecution$execThread$1.invoke(JupyterExecutorImpl.kt:21)\n",
      "\tat kotlin.concurrent.ThreadsKt$thread$thread$1.run(Thread.kt:30)\n",
      "Caused by: org.jetbrains.kotlinx.jupyter.exceptions.ReplCompilerException: Failed to resolve [org.ileasile:kformat:0.0.2]:\n",
      "File 'org.ileasile:kformat:0.0.2' not found\n",
      "ArtifactResolutionException: Could not transfer artifact org.ileasile:kformat:pom:0.0.2 from/to https___maven.pkg.github.com_ileasile_kformat (https://maven.pkg.github.com/ileasile/kformat): authentication failed for https://maven.pkg.github.com/ileasile/kformat/org/ileasile/kformat/0.0.2/kformat-0.0.2.pom, status: 401 Unauthorized\n",
      "\tat org.jetbrains.kotlinx.jupyter.repl.impl.JupyterCompilerImpl.compileSync(JupyterCompilerImpl.kt:182)\n",
      "\tat org.jetbrains.kotlinx.jupyter.repl.impl.InternalEvaluatorImpl.eval(InternalEvaluatorImpl.kt:102)\n",
      "\tat org.jetbrains.kotlinx.jupyter.repl.impl.CellExecutorImpl$execute$1$result$1.invoke(CellExecutorImpl.kt:73)\n",
      "\tat org.jetbrains.kotlinx.jupyter.repl.impl.CellExecutorImpl$execute$1$result$1.invoke(CellExecutorImpl.kt:71)\n",
      "\tat org.jetbrains.kotlinx.jupyter.repl.impl.ReplForJupyterImpl.withHost(ReplForJupyterImpl.kt:646)\n",
      "\tat org.jetbrains.kotlinx.jupyter.repl.impl.CellExecutorImpl.execute(CellExecutorImpl.kt:71)\n",
      "\tat org.jetbrains.kotlinx.jupyter.repl.execution.CellExecutor$DefaultImpls.execute$default(CellExecutor.kt:13)\n",
      "\tat org.jetbrains.kotlinx.jupyter.repl.impl.CellExecutorImpl$ExecutionContext.execute(CellExecutorImpl.kt:225)\n",
      "\tat org.jetbrains.kotlinx.jupyter.api.libraries.CodeExecutionCallback.invoke(CodeExecutionCallback.kt:8)\n",
      "\tat org.jetbrains.kotlinx.jupyter.api.libraries.CodeExecutionCallback.invoke(CodeExecutionCallback.kt:6)\n",
      "\tat org.jetbrains.kotlinx.jupyter.repl.impl.CellExecutorImpl$ExecutionContext.execute(CellExecutorImpl.kt:252)\n",
      "\tat org.jetbrains.kotlinx.jupyter.repl.impl.CellExecutorImpl$ExecutionContext.runChild(CellExecutorImpl.kt:145)\n",
      "\tat org.jetbrains.kotlinx.jupyter.repl.impl.CellExecutorImpl$ExecutionContext.runChild(CellExecutorImpl.kt:141)\n",
      "\tat org.jetbrains.kotlinx.jupyter.repl.impl.CellExecutorImpl$ExecutionContext.access$runChild(CellExecutorImpl.kt:132)\n",
      "\tat org.jetbrains.kotlinx.jupyter.repl.impl.CellExecutorImpl$ExecutionContext$doAddLibraries$1.invoke(CellExecutorImpl.kt:153)\n",
      "\tat org.jetbrains.kotlinx.jupyter.repl.impl.CellExecutorImpl$ExecutionContext$doAddLibraries$1.invoke(CellExecutorImpl.kt:152)\n",
      "\tat org.jetbrains.kotlinx.jupyter.exceptions.ReplLibraryExceptionKt.rethrowAsLibraryException(ReplLibraryException.kt:30)\n",
      "\t... 22 more\n",
      "\n"
     ]
    }
   ],
   "source": [
    "USE {\n",
    "    dependencies(\"org.ileasile:kformat:0.0.2\")\n",
    "    repository(\n",
    "        \"https://maven.pkg.github.com/ileasile/kformat\",\n",
    "        \"ileasile\",\n",
    "        readToken\n",
    "    )\n",
    "    import(\"org.ileasile.kformat.*\")\n",
    "}"
   ]
  },
  {
   "attachments": {},
   "cell_type": "markdown",
   "metadata": {
    "datalore": {
     "hide_input_from_viewers": false,
     "hide_output_from_viewers": false,
     "node_id": "staCddVMHTi49I5b31E1tk",
     "report_properties": {
      "rowId": "YrLfbBZxK3gmzAjhOcToTI"
     },
     "type": "MD"
    }
   },
   "source": [
    "Also, Kotlin API allows to define dependencies in Gradle style:"
   ]
  },
  {
   "cell_type": "code",
   "execution_count": 8,
   "metadata": {
    "datalore": {
     "hide_input_from_viewers": false,
     "hide_output_from_viewers": false,
     "node_id": "CFm4qEKjHsxHHGyVltuetk",
     "report_properties": {
      "rowId": "aY56fUvdq8nKDNJRhibmjc"
     },
     "type": "CODE"
    }
   },
   "outputs": [
    {
     "name": "stderr",
     "output_type": "stream",
     "text": [
      "The problem is found in one of the loaded libraries: check library imports, dependencies and repositories\n",
      "Error compiling code:\n",
      "@file:Repository(\"https://maven.pkg.github.com/ileasile/kformat\", username=\"ileasile\", password=\"ghp_<your read token>\")\n",
      "@file:DependsOn(\"org.ileasile:kformat:0.0.2\")\n",
      "import org.ileasile.kformat.*\n",
      "\n",
      "\n",
      "Errors:\n",
      "Failed to resolve [org.ileasile:kformat:0.0.2]:\n",
      "File 'org.ileasile:kformat:0.0.2' not found\n",
      "ArtifactResolutionException: Could not transfer artifact org.ileasile:kformat:pom:0.0.2 from/to https___maven.pkg.github.com_ileasile_kformat (https://maven.pkg.github.com/ileasile/kformat): authentication failed for https://maven.pkg.github.com/ileasile/kformat/org/ileasile/kformat/0.0.2/kformat-0.0.2.pom, status: 401 Unauthorized\n",
      "\n",
      "org.jetbrains.kotlinx.jupyter.exceptions.ReplLibraryException: The problem is found in one of the loaded libraries: check library imports, dependencies and repositories\n",
      "\tat org.jetbrains.kotlinx.jupyter.exceptions.ReplLibraryExceptionKt.rethrowAsLibraryException(ReplLibraryException.kt:32)\n",
      "\tat org.jetbrains.kotlinx.jupyter.repl.impl.CellExecutorImpl$ExecutionContext.doAddLibraries(CellExecutorImpl.kt:152)\n",
      "\tat org.jetbrains.kotlinx.jupyter.repl.impl.CellExecutorImpl$ExecutionContext.addLibraries(CellExecutorImpl.kt:187)\n",
      "\tat org.jetbrains.kotlinx.jupyter.api.KotlinKernelHost$DefaultImpls.addLibrary(KotlinKernelHost.kt:42)\n",
      "\tat org.jetbrains.kotlinx.jupyter.repl.impl.CellExecutorImpl$ExecutionContext.addLibrary(CellExecutorImpl.kt:132)\n",
      "\tat jupyter.kotlin.CellExtensionsKt$USE$1.invoke(cellExtensions.kt:23)\n",
      "\tat jupyter.kotlin.CellExtensionsKt$USE$1.invoke(cellExtensions.kt:23)\n",
      "\tat org.jetbrains.kotlinx.jupyter.repl.impl.CellExecutorImpl$ExecutionContext.execute(CellExecutorImpl.kt:252)\n",
      "\tat org.jetbrains.kotlinx.jupyter.repl.impl.CellExecutorImpl$ExecutionContext.runChild(CellExecutorImpl.kt:145)\n",
      "\tat org.jetbrains.kotlinx.jupyter.repl.impl.CellExecutorImpl$ExecutionContext.processExecutionQueue(CellExecutorImpl.kt:247)\n",
      "\tat org.jetbrains.kotlinx.jupyter.repl.impl.CellExecutorImpl.execute(CellExecutorImpl.kt:122)\n",
      "\tat org.jetbrains.kotlinx.jupyter.repl.execution.CellExecutor$DefaultImpls.execute$default(CellExecutor.kt:13)\n",
      "\tat org.jetbrains.kotlinx.jupyter.repl.impl.ReplForJupyterImpl.evaluateUserCode(ReplForJupyterImpl.kt:480)\n",
      "\tat org.jetbrains.kotlinx.jupyter.repl.impl.ReplForJupyterImpl.access$evaluateUserCode(ReplForJupyterImpl.kt:125)\n",
      "\tat org.jetbrains.kotlinx.jupyter.repl.impl.ReplForJupyterImpl$evalEx$1.invoke(ReplForJupyterImpl.kt:378)\n",
      "\tat org.jetbrains.kotlinx.jupyter.repl.impl.ReplForJupyterImpl$evalEx$1.invoke(ReplForJupyterImpl.kt:375)\n",
      "\tat org.jetbrains.kotlinx.jupyter.repl.impl.ReplForJupyterImpl.withEvalContext(ReplForJupyterImpl.kt:359)\n",
      "\tat org.jetbrains.kotlinx.jupyter.repl.impl.ReplForJupyterImpl.evalEx(ReplForJupyterImpl.kt:375)\n",
      "\tat org.jetbrains.kotlinx.jupyter.messaging.IdeCompatibleMessageRequestProcessor$processExecuteRequest$1$response$1$1.invoke(IdeCompatibleMessageRequestProcessor.kt:124)\n",
      "\tat org.jetbrains.kotlinx.jupyter.messaging.IdeCompatibleMessageRequestProcessor$processExecuteRequest$1$response$1$1.invoke(IdeCompatibleMessageRequestProcessor.kt:123)\n",
      "\tat org.jetbrains.kotlinx.jupyter.execution.JupyterExecutorImpl$runExecution$execThread$1.invoke(JupyterExecutorImpl.kt:26)\n",
      "\tat org.jetbrains.kotlinx.jupyter.execution.JupyterExecutorImpl$runExecution$execThread$1.invoke(JupyterExecutorImpl.kt:21)\n",
      "\tat kotlin.concurrent.ThreadsKt$thread$thread$1.run(Thread.kt:30)\n",
      "Caused by: org.jetbrains.kotlinx.jupyter.exceptions.ReplCompilerException: Failed to resolve [org.ileasile:kformat:0.0.2]:\n",
      "File 'org.ileasile:kformat:0.0.2' not found\n",
      "ArtifactResolutionException: Could not transfer artifact org.ileasile:kformat:pom:0.0.2 from/to https___maven.pkg.github.com_ileasile_kformat (https://maven.pkg.github.com/ileasile/kformat): authentication failed for https://maven.pkg.github.com/ileasile/kformat/org/ileasile/kformat/0.0.2/kformat-0.0.2.pom, status: 401 Unauthorized\n",
      "\tat org.jetbrains.kotlinx.jupyter.repl.impl.JupyterCompilerImpl.compileSync(JupyterCompilerImpl.kt:182)\n",
      "\tat org.jetbrains.kotlinx.jupyter.repl.impl.InternalEvaluatorImpl.eval(InternalEvaluatorImpl.kt:102)\n",
      "\tat org.jetbrains.kotlinx.jupyter.repl.impl.CellExecutorImpl$execute$1$result$1.invoke(CellExecutorImpl.kt:73)\n",
      "\tat org.jetbrains.kotlinx.jupyter.repl.impl.CellExecutorImpl$execute$1$result$1.invoke(CellExecutorImpl.kt:71)\n",
      "\tat org.jetbrains.kotlinx.jupyter.repl.impl.ReplForJupyterImpl.withHost(ReplForJupyterImpl.kt:646)\n",
      "\tat org.jetbrains.kotlinx.jupyter.repl.impl.CellExecutorImpl.execute(CellExecutorImpl.kt:71)\n",
      "\tat org.jetbrains.kotlinx.jupyter.repl.execution.CellExecutor$DefaultImpls.execute$default(CellExecutor.kt:13)\n",
      "\tat org.jetbrains.kotlinx.jupyter.repl.impl.CellExecutorImpl$ExecutionContext.execute(CellExecutorImpl.kt:225)\n",
      "\tat org.jetbrains.kotlinx.jupyter.api.libraries.CodeExecutionCallback.invoke(CodeExecutionCallback.kt:8)\n",
      "\tat org.jetbrains.kotlinx.jupyter.api.libraries.CodeExecutionCallback.invoke(CodeExecutionCallback.kt:6)\n",
      "\tat org.jetbrains.kotlinx.jupyter.repl.impl.CellExecutorImpl$ExecutionContext.execute(CellExecutorImpl.kt:252)\n",
      "\tat org.jetbrains.kotlinx.jupyter.repl.impl.CellExecutorImpl$ExecutionContext.runChild(CellExecutorImpl.kt:145)\n",
      "\tat org.jetbrains.kotlinx.jupyter.repl.impl.CellExecutorImpl$ExecutionContext.runChild(CellExecutorImpl.kt:141)\n",
      "\tat org.jetbrains.kotlinx.jupyter.repl.impl.CellExecutorImpl$ExecutionContext.access$runChild(CellExecutorImpl.kt:132)\n",
      "\tat org.jetbrains.kotlinx.jupyter.repl.impl.CellExecutorImpl$ExecutionContext$doAddLibraries$1.invoke(CellExecutorImpl.kt:153)\n",
      "\tat org.jetbrains.kotlinx.jupyter.repl.impl.CellExecutorImpl$ExecutionContext$doAddLibraries$1.invoke(CellExecutorImpl.kt:152)\n",
      "\tat org.jetbrains.kotlinx.jupyter.exceptions.ReplLibraryExceptionKt.rethrowAsLibraryException(ReplLibraryException.kt:30)\n",
      "\t... 22 more\n",
      "\n"
     ]
    }
   ],
   "source": [
    "USE {\n",
    "    dependencies {\n",
    "        implementation(\"org.ileasile:kformat:0.0.2\")\n",
    "    }\n",
    "    repositories {\n",
    "        maven {\n",
    "            url = \"https://maven.pkg.github.com/ileasile/kformat\"\n",
    "            credentials {\n",
    "                username = \"ileasile\"\n",
    "                password = readToken\n",
    "            }\n",
    "        }\n",
    "    }\n",
    "    import(\"org.ileasile.kformat.*\")\n",
    "}"
   ]
  },
  {
   "cell_type": "code",
   "execution_count": 9,
   "metadata": {
    "datalore": {
     "hide_input_from_viewers": false,
     "hide_output_from_viewers": false,
     "node_id": "pvtJ9O84yMmtOfFEvlXXc0",
     "report_properties": {
      "rowId": "cM7Eec2U1CVBlHSH17Rg1D"
     },
     "type": "CODE"
    }
   },
   "outputs": [],
   "source": [
    "//@file:DependsOn\n",
    "//@file:Repository"
   ]
  },
  {
   "attachments": {},
   "cell_type": "markdown",
   "metadata": {
    "datalore": {
     "hide_input_from_viewers": false,
     "hide_output_from_viewers": false,
     "node_id": "2t4kFtppYUB60JpAX4G0Vy",
     "report_properties": {
      "rowId": "c3ukpEDkef9NnK5W6m80fX"
     },
     "type": "MD"
    }
   },
   "source": [
    "## Initialization callbacks\n",
    "You can define the code that should be run after library initialization.\n",
    "In descriptors, only code executions are available for this purpose.\n",
    "In Kotlin API you can do a bit more."
   ]
  },
  {
   "cell_type": "code",
   "execution_count": 10,
   "metadata": {
    "datalore": {
     "hide_input_from_viewers": false,
     "hide_output_from_viewers": false,
     "node_id": "L1LDqh7lkS1goN8rbBjSIE",
     "report_properties": {
      "rowId": "bJriUMfF1ALMgCZRqL2vPR"
     },
     "type": "CODE"
    }
   },
   "outputs": [
    {
     "name": "stdout",
     "output_type": "stream",
     "text": [
      "Library 1 initialized\n"
     ]
    }
   ],
   "source": [
    "loadLibraryDescriptor(\"\"\"\n",
    "    {\n",
    "        \"init\": [\n",
    "            \"val myVar1 = 42\",\n",
    "            \"fun doInit1() {}\",\n",
    "            \"println(\\\"Library 1 initialized\\\")\"\n",
    "        ]\n",
    "    }\n",
    "\"\"\")"
   ]
  },
  {
   "cell_type": "code",
   "execution_count": 11,
   "metadata": {
    "datalore": {
     "hide_input_from_viewers": false,
     "hide_output_from_viewers": false,
     "node_id": "9eqic9jFlk5HV7wtGa0xxV",
     "report_properties": {
      "rowId": "eg2gxPucspll8gUsgPMeml"
     },
     "type": "CODE"
    }
   },
   "outputs": [],
   "source": [
    "class Config(\n",
    "    var bufferSize: Int = 100\n",
    ")\n",
    "\n",
    "val config1 = Config()\n",
    "\n",
    "USE {\n",
    "    onLoaded {\n",
    "        declare(\"myVar3\" to config1)\n",
    "    }\n",
    "}"
   ]
  },
  {
   "cell_type": "code",
   "execution_count": 12,
   "metadata": {
    "datalore": {
     "hide_input_from_viewers": false,
     "hide_output_from_viewers": false,
     "node_id": "jiSOTAXlmYqOJp0PhnBgnT",
     "report_properties": {
      "rowId": "WOxFiL3cGnwp0EfdM7ZMHv"
     },
     "type": "CODE"
    }
   },
   "outputs": [],
   "source": [
    "myVar3.bufferSize = myVar1"
   ]
  },
  {
   "cell_type": "code",
   "execution_count": 13,
   "metadata": {
    "datalore": {
     "hide_input_from_viewers": false,
     "hide_output_from_viewers": false,
     "node_id": "4ZHpp8jFXYZuKXCBbchbFV",
     "report_properties": {
      "rowId": "PwhJpKfF01V5FgWZ0vKmJH"
     },
     "type": "CODE"
    }
   },
   "outputs": [
    {
     "data": {
      "text/plain": [
       "42"
      ]
     },
     "execution_count": 13,
     "metadata": {},
     "output_type": "execute_result"
    }
   ],
   "source": [
    "myVar3.bufferSize"
   ]
  },
  {
   "cell_type": "code",
   "execution_count": 14,
   "metadata": {
    "datalore": {
     "hide_input_from_viewers": false,
     "hide_output_from_viewers": false,
     "node_id": "oE4AsSeJFz2ekobazrAZyL",
     "report_properties": {
      "rowId": "ajiBPydxHG4Xeq9tlTUVNm"
     },
     "type": "CODE"
    }
   },
   "outputs": [],
   "source": [
    "myVar3.bufferSize = 10"
   ]
  },
  {
   "cell_type": "code",
   "execution_count": 15,
   "metadata": {
    "datalore": {
     "hide_input_from_viewers": false,
     "hide_output_from_viewers": false,
     "node_id": "I19AnHiRpO5KqIFPSgZ4tW",
     "report_properties": {
      "rowId": "trd9FQC5p4kj2twt1NSdZi"
     },
     "type": "CODE"
    }
   },
   "outputs": [
    {
     "data": {
      "text/plain": [
       "10"
      ]
     },
     "execution_count": 15,
     "metadata": {},
     "output_type": "execute_result"
    }
   ],
   "source": [
    "config1.bufferSize"
   ]
  },
  {
   "attachments": {},
   "cell_type": "markdown",
   "metadata": {
    "datalore": {
     "hide_input_from_viewers": false,
     "hide_output_from_viewers": false,
     "node_id": "t2yRsMNARg8l0sorhYSM2s",
     "report_properties": {
      "rowId": "ytCzH78nG3CehElCoOlCp2"
     },
     "type": "MD"
    }
   },
   "source": [
    "## Before- and after-cell callbacks\n",
    "\n",
    "Sometimes you may want to execute some code before cell execution.\n",
    "That's how you can achieve it with library descriptor"
   ]
  },
  {
   "cell_type": "code",
   "execution_count": 16,
   "metadata": {
    "datalore": {
     "hide_input_from_viewers": false,
     "hide_output_from_viewers": false,
     "node_id": "BIsRgylmv6Ck8pCagHjIfQ",
     "report_properties": {
      "rowId": "kIehA33S1UmxSoILQBOezz"
     },
     "type": "CODE"
    }
   },
   "outputs": [],
   "source": [
    "loadLibraryDescriptor(\"\"\"\n",
    "    {\n",
    "        \"initCell\": [\n",
    "            \"println(\\\"Before cell execution - 1\\\")\"\n",
    "        ]\n",
    "    }\n",
    "\"\"\")"
   ]
  },
  {
   "cell_type": "code",
   "execution_count": 17,
   "metadata": {
    "datalore": {
     "hide_input_from_viewers": false,
     "hide_output_from_viewers": false,
     "node_id": "AzGRGqzpPJipHpBnXJmFzs",
     "report_properties": {
      "rowId": "loTaywakOhZgSG9nNxroBD"
     },
     "type": "CODE"
    }
   },
   "outputs": [
    {
     "name": "stdout",
     "output_type": "stream",
     "text": [
      "Before cell execution - 1\n"
     ]
    },
    {
     "data": {
      "text/plain": [
       "11"
      ]
     },
     "execution_count": 17,
     "metadata": {},
     "output_type": "execute_result"
    }
   ],
   "source": [
    "2 + 2 + 7"
   ]
  },
  {
   "attachments": {},
   "cell_type": "markdown",
   "metadata": {
    "datalore": {
     "hide_input_from_viewers": false,
     "hide_output_from_viewers": false,
     "node_id": "eARU2WTPp6GXOG3A2eatMP",
     "report_properties": {
      "rowId": "aRiAfUct8tkDWLUoCXSPUa"
     },
     "type": "MD"
    }
   },
   "source": [
    "You can achieve the same thing using Kotlin API"
   ]
  },
  {
   "cell_type": "code",
   "execution_count": 18,
   "metadata": {
    "datalore": {
     "hide_input_from_viewers": false,
     "hide_output_from_viewers": false,
     "node_id": "1sxa0CXvhLZDzOhrskiMbO",
     "report_properties": {
      "rowId": "29gNY5AfVcwwJIu9XdIeZC"
     },
     "type": "CODE"
    }
   },
   "outputs": [
    {
     "name": "stdout",
     "output_type": "stream",
     "text": [
      "Before cell execution - 1\n"
     ]
    }
   ],
   "source": [
    "USE {\n",
    "    beforeCellExecution {\n",
    "        println(\"Before cell execution - 2\")\n",
    "    }\n",
    "}"
   ]
  },
  {
   "cell_type": "code",
   "execution_count": 19,
   "metadata": {
    "datalore": {
     "hide_input_from_viewers": false,
     "hide_output_from_viewers": false,
     "node_id": "q0Aua9OEl1Z2vV3jqDgf1d",
     "report_properties": {
      "rowId": "qPr8FSa9A021OrxQcpqgvf"
     },
     "type": "CODE"
    }
   },
   "outputs": [
    {
     "name": "stdout",
     "output_type": "stream",
     "text": [
      "Before cell execution - 1\n",
      "Before cell execution - 2\n"
     ]
    },
    {
     "data": {
      "text/plain": [
       "4"
      ]
     },
     "execution_count": 19,
     "metadata": {},
     "output_type": "execute_result"
    }
   ],
   "source": [
    "2 + 2"
   ]
  },
  {
   "attachments": {},
   "cell_type": "markdown",
   "metadata": {
    "datalore": {
     "hide_input_from_viewers": false,
     "hide_output_from_viewers": false,
     "node_id": "1m5WHFHEZTkENJegwK28fp",
     "report_properties": {
      "rowId": "5H8VGC7gJEfYKSDQ1wDrFw"
     },
     "type": "MD"
    }
   },
   "source": [
    "You can manage added callbacks. Let's clear them."
   ]
  },
  {
   "cell_type": "code",
   "execution_count": 20,
   "metadata": {
    "datalore": {
     "hide_input_from_viewers": false,
     "hide_output_from_viewers": false,
     "node_id": "QOda8P2ggk7v4KPAXRBBSH",
     "report_properties": {
      "rowId": "LEj97CaHd6FEIUoWTDWrUd"
     },
     "type": "CODE"
    }
   },
   "outputs": [
    {
     "name": "stdout",
     "output_type": "stream",
     "text": [
      "Before cell execution - 1\n",
      "Before cell execution - 2\n"
     ]
    }
   ],
   "source": [
    "notebook.beforeCellExecutionsProcessor.unregisterAll()"
   ]
  },
  {
   "cell_type": "code",
   "execution_count": 21,
   "metadata": {
    "datalore": {
     "hide_input_from_viewers": false,
     "hide_output_from_viewers": false,
     "node_id": "1AhY64SK9ZxwRYARDBoZBL",
     "report_properties": {
      "rowId": "kUqpFEoT4wdrCyvaRjlL9U"
     },
     "type": "CODE"
    }
   },
   "outputs": [
    {
     "data": {
      "text/plain": [
       "4"
      ]
     },
     "execution_count": 21,
     "metadata": {},
     "output_type": "execute_result"
    }
   ],
   "source": [
    "2 + 2"
   ]
  },
  {
   "attachments": {},
   "cell_type": "markdown",
   "metadata": {
    "datalore": {
     "hide_input_from_viewers": false,
     "hide_output_from_viewers": false,
     "node_id": "ZbulAcAi9qUoHNTvuIiBlv",
     "report_properties": {
      "rowId": "83T4EixM904negk4PspoX9"
     },
     "type": "MD"
    }
   },
   "source": [
    "With Kotlin API, you can also create callbacks that are run after cells execution. Execution result is passed to them."
   ]
  },
  {
   "cell_type": "code",
   "execution_count": 22,
   "metadata": {
    "datalore": {
     "hide_input_from_viewers": false,
     "hide_output_from_viewers": false,
     "node_id": "1byxvh0xyBADy8SwMLniCS",
     "report_properties": {
      "rowId": "jiBee7WXAMh0dRE0mXCwYJ"
     },
     "type": "CODE"
    }
   },
   "outputs": [],
   "source": [
    "USE {\n",
    "    afterCellExecution { snippetInstance, result ->\n",
    "        val maybeDoubledResult = (result.value as? Int)?.let { it * 2 }\n",
    "        println(\"After execution of $snippetInstance: $maybeDoubledResult (${result.name})\")\n",
    "    }\n",
    "}"
   ]
  },
  {
   "cell_type": "code",
   "execution_count": 23,
   "metadata": {
    "datalore": {
     "hide_input_from_viewers": false,
     "hide_output_from_viewers": false,
     "node_id": "noRPMGssyqDY0I3ylUbUyF",
     "report_properties": {
      "rowId": "vWW1rKGiTC5wCiRppqSPtl"
     },
     "type": "CODE"
    }
   },
   "outputs": [
    {
     "name": "stdout",
     "output_type": "stream",
     "text": [
      "After execution of Line_35_jupyter@149fe128: 8 (res31)\n"
     ]
    },
    {
     "data": {
      "text/plain": [
       "4"
      ]
     },
     "execution_count": 23,
     "metadata": {},
     "output_type": "execute_result"
    }
   ],
   "source": [
    "2 + 2"
   ]
  },
  {
   "attachments": {},
   "cell_type": "markdown",
   "metadata": {
    "datalore": {
     "hide_input_from_viewers": false,
     "hide_output_from_viewers": false,
     "node_id": "ZsKekEpBlqek77sWCjZNyw",
     "report_properties": {
      "rowId": "NZYYw8krWxxsn6ViFn8HQZ"
     },
     "type": "MD"
    }
   },
   "source": [
    "Let's remove this callback as well, but do it in a bit more complicated manner"
   ]
  },
  {
   "cell_type": "code",
   "execution_count": 24,
   "metadata": {
    "datalore": {
     "hide_input_from_viewers": false,
     "hide_output_from_viewers": false,
     "node_id": "v3NZFJcHzeAbSs7N7RFbGH",
     "report_properties": {
      "rowId": "dr2BNXz8zjk4Heei7SHzTo"
     },
     "type": "CODE"
    }
   },
   "outputs": [],
   "source": [
    "notebook.afterCellExecutionsProcessor.let { processor ->\n",
    "    processor.unregister(processor.registeredExtensions().first())\n",
    "}"
   ]
  },
  {
   "attachments": {},
   "cell_type": "markdown",
   "metadata": {
    "datalore": {
     "hide_input_from_viewers": false,
     "hide_output_from_viewers": false,
     "node_id": "pzpQRXUrmoe70HgLdNw7vd",
     "report_properties": {
      "rowId": "HLOTmBX4YcaBXoCInGaWBA"
     },
     "type": "MD"
    }
   },
   "source": [
    "## Shutdown and interruption callbacks\n",
    "\n",
    "Kernel users have the ability to interrupt, restart and stop the kernel.\n",
    "What does it mean?\n",
    "\n",
    "**Interruption** just interrupts current cell execution. For example,\n",
    "if the user has run very long or infinite computation, they might want\n",
    "to interrupt it. After interruption kernel state remains untouched.\n",
    "\n",
    "**Stopping** kernel means just stopping the session. Kernel process is aborted,\n",
    "kernel state is aborted too.\n",
    "\n",
    "**Restarting** kernel means stopping followed by starting. Kernel process\n",
    "is aborted and then started again, kernel state is also cleared.\n",
    "\n",
    "Sometimes you may want to write a callback on kernel interruption or shutdown (that happens on stopping or restarting). And you can, using descriptor or Kotlin API."
   ]
  },
  {
   "cell_type": "code",
   "execution_count": 25,
   "metadata": {
    "datalore": {
     "hide_input_from_viewers": false,
     "hide_output_from_viewers": false,
     "node_id": "7CKOXDY3J8daQDdptDqR77",
     "report_properties": {
      "rowId": "sZDxeSOclpqLQU6I3U4ZFU"
     },
     "type": "CODE"
    }
   },
   "outputs": [],
   "source": [
    "// Interruption callbacks aren't supported by descriptor API\n",
    "loadLibraryDescriptor(\"\"\"\n",
    "    {\n",
    "        \"shutdown\": [\n",
    "            \"println(\\\"Bye!\\\")\"\n",
    "        ]\n",
    "    }\n",
    "\"\"\")"
   ]
  },
  {
   "cell_type": "code",
   "execution_count": 26,
   "metadata": {
    "datalore": {
     "hide_input_from_viewers": false,
     "hide_output_from_viewers": false,
     "node_id": "mMZepUVoYIFK0dFv0vrDT5",
     "report_properties": {
      "rowId": "XJdz2W54VQ71MD37E7zK44"
     },
     "type": "CODE"
    }
   },
   "outputs": [],
   "source": [
    "var interruptionCount = 0\n",
    "USE {\n",
    "    onShutdown {\n",
    "        println(\"Bye! (2)\")\n",
    "    }\n",
    "\n",
    "    onInterrupt {\n",
    "        ++interruptionCount\n",
    "    }\n",
    "}"
   ]
  },
  {
   "cell_type": "code",
   "execution_count": null,
   "metadata": {
    "datalore": {
     "hide_input_from_viewers": false,
     "hide_output_from_viewers": false,
     "node_id": "wDfX0A3EqhWkX2UCADHWvM",
     "report_properties": {
      "rowId": "sWNQSLVUcaeEBmAPpke16g"
     },
     "type": "CODE"
    }
   },
   "outputs": [],
   "source": [
    "while(true) {}"
   ]
  },
  {
   "attachments": {},
   "cell_type": "markdown",
   "metadata": {
    "datalore": {
     "hide_input_from_viewers": false,
     "hide_output_from_viewers": false,
     "node_id": "LDvkJAbLhf0sLT8naKOpdj",
     "report_properties": {
      "rowId": "9uUmhY5IEWb0F9Z4LLL9ns"
     },
     "type": "MD"
    }
   },
   "source": [
    "Shutdown callbacks can be managed by corresponding processor.\n",
    "API for extensions management will be most likely reworked in the future\n",
    "versions of kernel."
   ]
  },
  {
   "cell_type": "code",
   "execution_count": null,
   "metadata": {
    "datalore": {
     "hide_input_from_viewers": false,
     "hide_output_from_viewers": false,
     "node_id": "AxHz6sT8igD0xHatR2O3TI",
     "report_properties": {
      "rowId": "9aUzTpm3Fs3zjX6Fl5svDH"
     },
     "type": "CODE"
    }
   },
   "outputs": [],
   "source": [
    "interruptionCount"
   ]
  },
  {
   "cell_type": "code",
   "execution_count": null,
   "metadata": {
    "datalore": {
     "hide_input_from_viewers": false,
     "hide_output_from_viewers": false,
     "node_id": "jVo4UAFNdHBeHnI0NgQTEy",
     "report_properties": {
      "rowId": "XKeLbzujSGyt7sGXweJGW6"
     },
     "type": "CODE"
    }
   },
   "outputs": [],
   "source": [
    "notebook.shutdownExecutionsProcessor.unregisterAll()\n",
    "notebook.interruptionCallbacksProcessor.unregisterAll()"
   ]
  },
  {
   "attachments": {},
   "cell_type": "markdown",
   "metadata": {
    "datalore": {
     "hide_input_from_viewers": false,
     "hide_output_from_viewers": false,
     "node_id": "Y8m8UCdfIZajEZZOo0DeSR",
     "report_properties": {
      "rowId": "TjL2Gby4DlurAmXZNsOMiY"
     },
     "type": "MD"
    }
   },
   "source": [
    "## Color scheme change callbacks\n",
    "\n",
    "Sometimes you may want to do something when the user changes current\n",
    "color scheme in their client. For example, you might want to change color\n",
    "scheme for newly created outputs or even update already created ones.\n",
    "You definitely can, but only in Kotlin API, and only if the user uses Kotlin Notebook plugin"
   ]
  },
  {
   "cell_type": "code",
   "execution_count": null,
   "metadata": {
    "datalore": {
     "hide_input_from_viewers": false,
     "hide_output_from_viewers": false,
     "node_id": "kfACAahonfgtU9aTCjq8A5",
     "report_properties": {
      "rowId": "FSrS8i1Hfq5tw0NeYR13tC"
     },
     "type": "CODE"
    }
   },
   "outputs": [],
   "source": [
    "var isDark = notebook.currentColorScheme == ColorScheme.DARK\n",
    "USE {\n",
    "    println(\"Dark? - $isDark\")\n",
    "\n",
    "    onColorSchemeChange { colorScheme ->\n",
    "        isDark = colorScheme == ColorScheme.DARK\n",
    "        println(\"Color scheme is changed\")\n",
    "    }\n",
    "}"
   ]
  },
  {
   "cell_type": "code",
   "execution_count": null,
   "metadata": {
    "datalore": {
     "hide_input_from_viewers": false,
     "hide_output_from_viewers": false,
     "node_id": "fPAAWxuXezIC0ijB7Z665a",
     "report_properties": {
      "rowId": "wCZCvAr5I4GqhHJUWcEKSL"
     },
     "type": "CODE"
    }
   },
   "outputs": [],
   "source": [
    "isDark"
   ]
  },
  {
   "cell_type": "code",
   "execution_count": null,
   "metadata": {
    "datalore": {
     "hide_input_from_viewers": false,
     "hide_output_from_viewers": false,
     "node_id": "2I7qSrr5q1pjDGlafkAkQb",
     "report_properties": {
      "rowId": "8RvJheV7qmMV3TgAjrClo9"
     },
     "type": "CODE"
    }
   },
   "outputs": [],
   "source": [
    "notebook.colorSchemeChangeCallbacksProcessor.unregisterAll()"
   ]
  },
  {
   "attachments": {},
   "cell_type": "markdown",
   "metadata": {
    "datalore": {
     "hide_input_from_viewers": false,
     "hide_output_from_viewers": false,
     "node_id": "CShwMC7nRK99DulXh8qLcf",
     "report_properties": {
      "rowId": "cZG2Gg1q6ricyrJ2obqEVN"
     },
     "type": "MD"
    }
   },
   "source": [
    "## Rendering"
   ]
  },
  {
   "attachments": {},
   "cell_type": "markdown",
   "metadata": {
    "datalore": {
     "hide_input_from_viewers": false,
     "hide_output_from_viewers": false,
     "node_id": "dcpELDBqZXULEmSZWx0H5S",
     "report_properties": {
      "rowId": "MgHGwgpl2ke1SqG0BvCeuI"
     },
     "type": "MD"
    }
   },
   "source": [
    "Imagine you're developing a model for TicTacToe game and want to experiment with it in the notebook.\n",
    "You want to have some visual representation of the model. Now all what you have is a following\n",
    "string representation of the game state:"
   ]
  },
  {
   "cell_type": "code",
   "execution_count": null,
   "metadata": {
    "datalore": {
     "hide_input_from_viewers": false,
     "hide_output_from_viewers": false,
     "node_id": "y63yo6tLdvnMsm0KGSGdnu",
     "report_properties": {
      "rowId": "CKP7bVtnKhgS7hYqLrbKIs"
     },
     "type": "CODE"
    }
   },
   "outputs": [],
   "source": [
    "val gameState = \"x_o|_x_|___\"\n",
    "gameState"
   ]
  },
  {
   "attachments": {},
   "cell_type": "markdown",
   "metadata": {
    "datalore": {
     "hide_input_from_viewers": false,
     "hide_output_from_viewers": false,
     "node_id": "xGjOhoO7Z8zpMX2BUfFPy6",
     "report_properties": {
      "rowId": "FYVprXZJX8ybIkUdRYlbMC"
     },
     "type": "MD"
    }
   },
   "source": [
    "First thing you might want to do is to create a matrix containing the state in easier-to-use form"
   ]
  },
  {
   "cell_type": "code",
   "execution_count": null,
   "metadata": {
    "datalore": {
     "hide_input_from_viewers": false,
     "hide_output_from_viewers": false,
     "node_id": "qzbgFqmprSHGn4hbFD4DeE",
     "report_properties": {
      "rowId": "3CkWbCch8Jhw0YWvzybrWe"
     },
     "type": "CODE"
    }
   },
   "outputs": [],
   "source": [
    "enum class TTTCell {\n",
    "    X, O, Empty\n",
    "}\n",
    "\n",
    "fun getGameState(state: String) = state.split('|')\n",
    "    .map { line ->\n",
    "        line.map {\n",
    "            when (it) {\n",
    "                'x' -> TTTCell.X\n",
    "                'o' -> TTTCell.O\n",
    "                '_' -> TTTCell.Empty\n",
    "                else -> error(\"Not possible\")\n",
    "            }\n",
    "        }\n",
    "    }"
   ]
  },
  {
   "cell_type": "code",
   "execution_count": null,
   "metadata": {
    "datalore": {
     "hide_input_from_viewers": false,
     "hide_output_from_viewers": false,
     "node_id": "pIEgOcSU0NZ7T2iMeis8jN",
     "report_properties": {
      "rowId": "yO7NShs20PgUXH62mQECW9"
     },
     "type": "CODE"
    }
   },
   "outputs": [],
   "source": [
    "val stateMatrix = getGameState(gameState)\n",
    "stateMatrix"
   ]
  },
  {
   "cell_type": "code",
   "execution_count": null,
   "metadata": {
    "datalore": {
     "hide_input_from_viewers": false,
     "hide_output_from_viewers": false,
     "node_id": "tGc4r1UI8QshX6E0SNwHlF",
     "report_properties": {
      "rowId": "ueDFLSiaxErv3sQNrMRxQK"
     },
     "type": "CODE"
    }
   },
   "outputs": [],
   "source": [
    "class TTTState(val stateMatrix: List<List<TTTCell>>)"
   ]
  },
  {
   "cell_type": "code",
   "execution_count": null,
   "metadata": {
    "datalore": {
     "hide_input_from_viewers": false,
     "hide_output_from_viewers": false,
     "node_id": "lgYCIs3FwBLQgbbFcsvMvX",
     "report_properties": {
      "rowId": "Zfx5UVcbiQybfkOTQunf2u"
     },
     "type": "CODE"
    }
   },
   "outputs": [],
   "source": [
    "val state = TTTState(stateMatrix)"
   ]
  },
  {
   "attachments": {},
   "cell_type": "markdown",
   "metadata": {
    "datalore": {
     "hide_input_from_viewers": false,
     "hide_output_from_viewers": false,
     "node_id": "JlMwa1IOmmwF53KAeZoY6n",
     "report_properties": {
      "rowId": "mEXNvt604KWPfHBDZf3wLy"
     },
     "type": "MD"
    }
   },
   "source": [
    "To render it, we may add a text renderer. Text renderers are supported only by Kotlin API and can only\n",
    "render values to string. Their benefit is that they can easily stack together: string are addable."
   ]
  },
  {
   "cell_type": "code",
   "execution_count": null,
   "metadata": {
    "datalore": {
     "hide_input_from_viewers": false,
     "hide_output_from_viewers": false,
     "node_id": "KvqdiHpdZi2CphIYSxMj1r",
     "report_properties": {
      "rowId": "uP4CXk9t9NAos3ns4xyVrl"
     },
     "type": "CODE"
    }
   },
   "outputs": [],
   "source": [
    "USE {\n",
    "    addTextRenderer(TextRenderer { _, value ->\n",
    "        (value as? TTTState)?.let { state ->\n",
    "            state.stateMatrix.joinToString(\"\\n\") { line ->\n",
    "                line.joinToString(\" \") {\n",
    "                    when (it) {\n",
    "                        TTTCell.X -> \"X\"\n",
    "                        TTTCell.O -> \"O\"\n",
    "                        TTTCell.Empty -> \"_\"\n",
    "                    }\n",
    "                }\n",
    "            }\n",
    "        }\n",
    "    })\n",
    "}"
   ]
  },
  {
   "cell_type": "code",
   "execution_count": null,
   "metadata": {
    "datalore": {
     "hide_input_from_viewers": false,
     "hide_output_from_viewers": false,
     "node_id": "z3IzOGeflKEYFIWPTw7hU8",
     "report_properties": {
      "rowId": "XsGdpQCPHSyqtXVbcGgYN4"
     },
     "type": "CODE"
    }
   },
   "outputs": [],
   "source": [
    "state"
   ]
  },
  {
   "attachments": {},
   "cell_type": "markdown",
   "metadata": {
    "datalore": {
     "hide_input_from_viewers": false,
     "hide_output_from_viewers": false,
     "node_id": "rJECecwjQvVYlV4SIPIZc8",
     "report_properties": {
      "rowId": "pHiR3R2hbskzidNu8lLsT0"
     },
     "type": "MD"
    }
   },
   "source": [
    "It's much better now, but we still might wish some graphic representation of the state.\n",
    "Let's create a couple of renderers. Renderers accept some values and return some other\n",
    "values. Rendering logic is described in [kernel documentation](https://github.com/Kotlin/kotlin-jupyter/blob/master/docs/README.md#rendering). Here, we register created renderers with `RenderersProcessor` and specify priority for them to ensure the order of  probation"
   ]
  },
  {
   "cell_type": "code",
   "execution_count": null,
   "metadata": {
    "datalore": {
     "hide_input_from_viewers": false,
     "hide_output_from_viewers": false,
     "node_id": "DLTsEANu9jBz4ergY2ux1u",
     "report_properties": {
      "rowId": "y1qxBTRSDNmRIZDSEXtwTP"
     },
     "type": "CODE"
    }
   },
   "outputs": [],
   "source": [
    "val htmlStateRenderer = createRenderer<TTTState> {\n",
    "    val style = \"\"\"\n",
    "        border: 1px solid black;border-collapse: collapse;\n",
    "    \"\"\".trimIndent()\n",
    "    val html =\n",
    "        it.stateMatrix.joinToString(\"\\n\", prefix = \"<div><table style='$style'>\", postfix = \"</table></div>\") { line ->\n",
    "            line.joinToString(\"\", prefix = \"<tr style='$style'>\", postfix = \"</tr>\") { cell ->\n",
    "                buildString {\n",
    "                    append(\"<td style='$style'>\")\n",
    "                    append(\n",
    "                        when (cell) {\n",
    "                            TTTCell.X -> \"X\"\n",
    "                            TTTCell.O -> \"O\"\n",
    "                            TTTCell.Empty -> \"\\u200D\"\n",
    "                        }\n",
    "                    )\n",
    "                    append(\"</td>\")\n",
    "                }\n",
    "            }\n",
    "        }\n",
    "    mimeResult(\n",
    "        MimeTypes.HTML to html,\n",
    "        MimeTypes.PLAIN_TEXT to it.stateMatrix.toString()\n",
    "    )\n",
    "}\n",
    "notebook.renderersProcessor.registerWithoutOptimizing(htmlStateRenderer, ProcessingPriority.DEFAULT + 5)"
   ]
  },
  {
   "cell_type": "code",
   "execution_count": null,
   "metadata": {
    "datalore": {
     "hide_input_from_viewers": false,
     "hide_output_from_viewers": false,
     "node_id": "5PphdaFz14XBvovS6ZYF8z",
     "report_properties": {
      "rowId": "HAMo4XcsvceFepwnsltw4q"
     },
     "type": "CODE"
    }
   },
   "outputs": [],
   "source": [
    "state"
   ]
  },
  {
   "attachments": {},
   "cell_type": "markdown",
   "metadata": {
    "datalore": {
     "hide_input_from_viewers": false,
     "hide_output_from_viewers": false,
     "node_id": "Bu94DrZBzM5aNZzmNILMJl",
     "report_properties": {
      "rowId": "qDjMyIfpi7x9tS6RQm0eqH"
     },
     "type": "MD"
    }
   },
   "source": [
    "The following renderer will render not to `DisplayResult`, but to a `BufferedImage`.\n",
    "Kernel knows how to render `BufferedImage`, that's because it works fine."
   ]
  },
  {
   "cell_type": "code",
   "execution_count": null,
   "metadata": {
    "datalore": {
     "hide_input_from_viewers": false,
     "hide_output_from_viewers": false,
     "node_id": "m9mMXXKfygvqQT9Dy5t6VZ",
     "report_properties": {
      "rowId": "Nd5ZojCHu4qwbynpIuulr9"
     },
     "type": "CODE"
    }
   },
   "outputs": [],
   "source": [
    "import java.awt.Color\n",
    "import java.awt.geom.Ellipse2D\n",
    "import java.awt.image.BufferedImage\n",
    "\n",
    "@OptIn(ExperimentalStdlibApi::class)\n",
    "val imageStateRenderer = createRenderer<TTTState> { state ->\n",
    "    val cellSize = 100\n",
    "    val padding = 5\n",
    "    val mtx = state.stateMatrix\n",
    "    val rowsCount = mtx.size\n",
    "    val colsCount = mtx.first().size\n",
    "    val width = 2 * padding + cellSize * colsCount\n",
    "    val height = 2 * padding + cellSize * rowsCount\n",
    "\n",
    "    val img = BufferedImage(width, height, BufferedImage.TYPE_INT_ARGB)\n",
    "    val g = img.createGraphics()\n",
    "    g.color = Color.BLACK\n",
    "\n",
    "    val figPadding = cellSize / 10\n",
    "    fun drawCell(xOffset: Int, yOffset: Int, cell: TTTCell) {\n",
    "        when (cell) {\n",
    "            TTTCell.X -> {\n",
    "                g.drawLine(\n",
    "                    xOffset + figPadding,\n",
    "                    yOffset + figPadding,\n",
    "                    xOffset + cellSize - figPadding,\n",
    "                    yOffset + cellSize - figPadding\n",
    "                )\n",
    "                g.drawLine(\n",
    "                    xOffset + cellSize - figPadding,\n",
    "                    yOffset + figPadding,\n",
    "                    xOffset + figPadding,\n",
    "                    yOffset + cellSize - figPadding\n",
    "                )\n",
    "            }\n",
    "            TTTCell.O -> {\n",
    "                g.draw(Ellipse2D.Double(\n",
    "                    (xOffset + figPadding).toDouble(),\n",
    "                    (yOffset + figPadding).toDouble(),\n",
    "                    (cellSize - 2 * figPadding).toDouble(),\n",
    "                    (cellSize - 2 * figPadding).toDouble(),\n",
    "                ))\n",
    "            }\n",
    "\n",
    "            TTTCell.Empty -> {}\n",
    "        }\n",
    "    }\n",
    "\n",
    "    fun drawGrid() {\n",
    "        for (i in 0..rowsCount) {\n",
    "            g.drawLine(\n",
    "                padding,\n",
    "                padding + i * cellSize,\n",
    "                padding + colsCount * cellSize,\n",
    "                padding + i * cellSize,\n",
    "            )\n",
    "        }\n",
    "        for (j in 0..colsCount) {\n",
    "            g.drawLine(\n",
    "                padding + j * cellSize,\n",
    "                padding,\n",
    "                padding + j * cellSize,\n",
    "                padding + rowsCount * cellSize,\n",
    "            )\n",
    "        }\n",
    "    }\n",
    "\n",
    "    drawGrid()\n",
    "    for (i in 0..< rowsCount) {\n",
    "        for (j in 0..< colsCount) {\n",
    "            drawCell(padding + j * cellSize, padding + i * cellSize, mtx[i][j])\n",
    "        }\n",
    "    }\n",
    "\n",
    "    img\n",
    "}\n",
    "\n",
    "notebook.renderersProcessor.registerWithoutOptimizing(imageStateRenderer, ProcessingPriority.HIGHER)"
   ]
  },
  {
   "cell_type": "code",
   "execution_count": null,
   "metadata": {
    "datalore": {
     "hide_input_from_viewers": false,
     "hide_output_from_viewers": false,
     "node_id": "kwGhJrChXIRY0tYqmotHfc",
     "report_properties": {
      "rowId": "4hEPWmIcECUaChEgXJrN0S"
     },
     "type": "CODE"
    }
   },
   "outputs": [],
   "source": [
    "state"
   ]
  },
  {
   "attachments": {},
   "cell_type": "markdown",
   "metadata": {
    "datalore": {
     "hide_input_from_viewers": false,
     "hide_output_from_viewers": false,
     "node_id": "ng2zV101bxX24o7MSgD6dZ",
     "report_properties": {
      "rowId": "Qd052RbLjMEDY3x2JGGqTv"
     },
     "type": "MD"
    }
   },
   "source": [
    "Renderer for `BufferedImage` is already registered!"
   ]
  },
  {
   "cell_type": "code",
   "execution_count": null,
   "metadata": {
    "datalore": {
     "hide_input_from_viewers": false,
     "hide_output_from_viewers": false,
     "node_id": "sQjhort3iyyWDrLl9AtNFg",
     "report_properties": {
      "rowId": "MBhVi2ZZKdBe0dT3idTCsR"
     },
     "type": "CODE"
    }
   },
   "outputs": [],
   "source": [
    "USE {\n",
    "    render<TTTState> { it }\n",
    "}"
   ]
  },
  {
   "cell_type": "code",
   "execution_count": null,
   "metadata": {
    "datalore": {
     "hide_input_from_viewers": false,
     "hide_output_from_viewers": false,
     "node_id": "84VYitLbQDrzppAY3kkMVM",
     "report_properties": {
      "rowId": "X5HduZd3JUswZqdIvQWcvr"
     },
     "type": "CODE"
    }
   },
   "outputs": [],
   "source": [
    "notebook.renderersProcessor.registeredRenderers()\n",
    "    .map { it.renderer }\n",
    "    .filter { (it as? RendererTypeHandler)?.acceptsType(BufferedImage::class) == true }"
   ]
  },
  {
   "attachments": {},
   "cell_type": "markdown",
   "metadata": {
    "datalore": {
     "hide_input_from_viewers": false,
     "hide_output_from_viewers": false,
     "node_id": "neNhsh456vZpwFtqBB3eCG",
     "report_properties": {
      "rowId": "9nzoHcpCP1GLrQWAukO1fW"
     },
     "type": "MD"
    }
   },
   "source": [
    "You can add a renderer in the library descriptor as well, but functionality isn't\n",
    "so rich there. In fact, you can only write code-based renderers, and renderers are\n",
    "matched by **exact** FQN match. Subtypes aren't accepted."
   ]
  },
  {
   "cell_type": "code",
   "execution_count": null,
   "metadata": {
    "datalore": {
     "hide_input_from_viewers": false,
     "hide_output_from_viewers": false,
     "node_id": "DjeeRi7xI6DAN675VH3TV9",
     "report_properties": {
      "rowId": "ffdXcOShKpmT2VFamXtJoC"
     },
     "type": "CODE"
    }
   },
   "outputs": [],
   "source": [
    "val dollar = \"$\"\n",
    "val dollarIt = \"\\$it\"\n",
    "\n",
    "class Customer2(val name: String, val age: Int)\n",
    "\n",
    "loadLibraryDescriptor(\n",
    "    \"\"\"\n",
    "        {\n",
    "            \"renderers\": {\n",
    "                \"${Customer2::class.qualifiedName}\": \"\\\"Customer $dollar{${dollarIt}.name} aged $dollar{${dollarIt}.age}\\\"\"\n",
    "            }\n",
    "        }\n",
    "    \"\"\"\n",
    ")"
   ]
  },
  {
   "cell_type": "code",
   "execution_count": null,
   "metadata": {
    "datalore": {
     "hide_input_from_viewers": false,
     "hide_output_from_viewers": false,
     "node_id": "YKWpaYM2PmmUpoF9vhf61N",
     "report_properties": {
      "rowId": "kHqcBGP4zD4qWEOevgWkNs"
     },
     "type": "CODE"
    }
   },
   "outputs": [],
   "source": [
    "Customer2(\"Ada\", 42)"
   ]
  },
  {
   "attachments": {},
   "cell_type": "markdown",
   "metadata": {
    "datalore": {
     "hide_input_from_viewers": false,
     "hide_output_from_viewers": false,
     "node_id": "JvvYOG9AwfJmiLrbi9ptjh",
     "report_properties": {
      "rowId": "gdPUAVfcoA8aRXf03ir1fe"
     },
     "type": "MD"
    }
   },
   "source": [
    "One more thing that you can render are exceptions! Let's add a renderer for `NullPointerException`"
   ]
  },
  {
   "cell_type": "code",
   "execution_count": null,
   "metadata": {
    "datalore": {
     "hide_input_from_viewers": false,
     "hide_output_from_viewers": false,
     "node_id": "0bmnxaUAEOgc3cJDuZ2Lc2",
     "report_properties": {
      "rowId": "82XbePaUlOwT2VXGYcd3i1"
     },
     "type": "CODE"
    }
   },
   "outputs": [],
   "source": [
    "USE {\n",
    "    renderThrowable<NullPointerException> {\n",
    "        HTML(\"<b>Kotlin is a null-safe language</b>\")\n",
    "    }\n",
    "}"
   ]
  },
  {
   "cell_type": "code",
   "execution_count": null,
   "metadata": {
    "datalore": {
     "hide_input_from_viewers": false,
     "hide_output_from_viewers": false,
     "node_id": "25RWEOniQuibHNAUEFrZGX",
     "report_properties": {
      "rowId": "4V66M4w1UlwOuLZ5IY81NX"
     },
     "type": "CODE"
    }
   },
   "outputs": [],
   "source": [
    "System.getProperty(\"some_unexistent_property\")!!"
   ]
  },
  {
   "attachments": {},
   "cell_type": "markdown",
   "metadata": {
    "datalore": {
     "hide_input_from_viewers": false,
     "hide_output_from_viewers": false,
     "node_id": "DdO4dw40LFzJt0TlKDs7Ne",
     "report_properties": {
      "rowId": "fYC5xnKtUSpYiFLT4HkPws"
     },
     "type": "MD"
    }
   },
   "source": [
    "You can also render having current execution host in the context"
   ]
  },
  {
   "cell_type": "code",
   "execution_count": null,
   "metadata": {
    "datalore": {
     "hide_input_from_viewers": false,
     "hide_output_from_viewers": false,
     "node_id": "4UpYgouDImsXkRAmaOLt7w",
     "report_properties": {
      "rowId": "kuzi0a4lenTKR7ytAIYZmk"
     },
     "type": "CODE"
    }
   },
   "outputs": [],
   "source": [
    "USE {\n",
    "    fun TTTCell.toHTML() = HTML(\"<TODO>\")\n",
    "\n",
    "    renderWithHost<TTTCell> { executionHost, value ->\n",
    "        executionHost.execute {\n",
    "            display(value.toHTML(), \"12\")\n",
    "            display(textResult(value.toString()), \"\")\n",
    "        }\n",
    "    }\n",
    "}"
   ]
  },
  {
   "attachments": {},
   "cell_type": "markdown",
   "metadata": {
    "datalore": {
     "hide_input_from_viewers": false,
     "hide_output_from_viewers": false,
     "node_id": "wuFD1A0TnFq8qZ6IPoYLIa",
     "report_properties": {
      "rowId": "NOfKq0qMhXm4RcKXXqyYwo"
     },
     "type": "MD"
    }
   },
   "source": [
    "## Code preprocessing\n",
    "\n",
    "Kotlin kernel gives you an ability to preprocess the code before execution.\n",
    "One of the examples of preprocessing is magics. They are preprocessed with a built-in processor.\n",
    "But sometimes you have to write your own one.\n",
    "\n",
    "For now, you can't run suspend functions directly in the notebook cells. Let's\n",
    "try to improve the situation writing a workaround for this problem. We start\n",
    "with creating a function"
   ]
  },
  {
   "cell_type": "code",
   "execution_count": null,
   "metadata": {
    "datalore": {
     "hide_input_from_viewers": false,
     "hide_output_from_viewers": false,
     "node_id": "58W81fgX6daM7aIKDnnavh",
     "report_properties": {
      "rowId": "dDJZFeeBhojcOcn3fSLEN9"
     },
     "type": "CODE"
    }
   },
   "outputs": [],
   "source": [
    "%use coroutines"
   ]
  },
  {
   "cell_type": "code",
   "execution_count": null,
   "metadata": {
    "datalore": {
     "hide_input_from_viewers": false,
     "hide_output_from_viewers": false,
     "node_id": "xhyJl9glfo6cA260XrKLDh",
     "report_properties": {
      "rowId": "rmLFvTENMlhrdGdMmhlyIY"
     },
     "type": "CODE"
    }
   },
   "outputs": [],
   "source": [
    "private class Decl(val varMod: String, val name: String)\n",
    "\n",
    "fun generateRunBlocking(code: String): String {\n",
    "    val declarationRegex = \"\"\"^(va[lr]) +(\\w+) \"\"\".toRegex(RegexOption.MULTILINE)\n",
    "    val matches = declarationRegex.findAll(code).toList()\n",
    "    val newCode = code.toCharArray()\n",
    "    val declarations = matches.map { m ->\n",
    "        val modGroup = m.groups[1]!!\n",
    "        val modifier = modGroup.value\n",
    "        for (i in modGroup.range) {\n",
    "            newCode[i] = ' '\n",
    "        }\n",
    "        val varName = m.groups[2]!!.value\n",
    "        Decl(modifier, varName)\n",
    "    }\n",
    "    return buildString {\n",
    "        for (decl in declarations) {\n",
    "            append(\"var ${decl.name}: Any? = null\\n\")\n",
    "        }\n",
    "        append(\"runBlocking {\\n\")\n",
    "        append(String(newCode))\n",
    "        append(\"\\n}\")\n",
    "    }\n",
    "}"
   ]
  },
  {
   "attachments": {},
   "cell_type": "markdown",
   "metadata": {
    "datalore": {
     "hide_input_from_viewers": false,
     "hide_output_from_viewers": false,
     "node_id": "SiixTH7FAskvuw87Lfd3lt",
     "report_properties": {
      "rowId": "pkdocjfEgkHGZkNZEg0qCd"
     },
     "type": "MD"
    }
   },
   "source": [
    "Let's test it"
   ]
  },
  {
   "cell_type": "code",
   "execution_count": null,
   "metadata": {
    "datalore": {
     "hide_input_from_viewers": false,
     "hide_output_from_viewers": false,
     "node_id": "rZWCos0jH1pOtVldRGKTLd",
     "report_properties": {
      "rowId": "2L3O1gtgQ8JkbcyvVkKWfr"
     },
     "type": "CODE"
    }
   },
   "outputs": [],
   "source": [
    "generateRunBlocking(\"\"\"\n",
    "    val xyz = 42\n",
    "    var t = 12\n",
    "\"\"\".trimIndent())"
   ]
  },
  {
   "cell_type": "code",
   "execution_count": null,
   "metadata": {
    "datalore": {
     "hide_input_from_viewers": false,
     "hide_output_from_viewers": false,
     "node_id": "ufBXDa1Z2D1lqqzsC5jsx1",
     "report_properties": {
      "rowId": "pOyf1UlbzzgBt6BrEgyP7E"
     },
     "type": "CODE"
    }
   },
   "outputs": [],
   "source": [
    "USE {\n",
    "    preprocessCode { code -> generateRunBlocking(code) }\n",
    "}"
   ]
  },
  {
   "cell_type": "code",
   "execution_count": null,
   "metadata": {
    "datalore": {
     "hide_input_from_viewers": false,
     "hide_output_from_viewers": false,
     "node_id": "2XzF3wRX6NlEi908xxy79f",
     "report_properties": {
      "rowId": "96w8EcjnewffqtxVvAuwxe"
     },
     "type": "CODE"
    }
   },
   "outputs": [],
   "source": [
    "suspend fun susF(): Int = 42\n",
    "\n",
    "val a = susF()"
   ]
  },
  {
   "cell_type": "code",
   "execution_count": null,
   "metadata": {
    "datalore": {
     "hide_input_from_viewers": false,
     "hide_output_from_viewers": false,
     "node_id": "YrKPSd2rYaSdmMqCqg3wpZ",
     "report_properties": {
      "rowId": "kIaSOBKE2g3ETEsImhWpdg"
     },
     "type": "CODE"
    }
   },
   "outputs": [],
   "source": [
    "a"
   ]
  },
  {
   "cell_type": "code",
   "execution_count": null,
   "metadata": {
    "datalore": {
     "hide_input_from_viewers": false,
     "hide_output_from_viewers": false,
     "node_id": "ZSwIBjnKNC9wUbR77I809V",
     "report_properties": {
      "rowId": "llihElBjAad2oVi7hWmWAx"
     },
     "type": "CODE"
    }
   },
   "outputs": [],
   "source": [
    "val processors = notebook.codePreprocessorsProcessor.registeredExtensions().toList()\n",
    "println(processors)"
   ]
  },
  {
   "cell_type": "code",
   "execution_count": null,
   "metadata": {
    "datalore": {
     "hide_input_from_viewers": false,
     "hide_output_from_viewers": false,
     "node_id": "lCcIkGEmDmPrV08sm0QPyQ",
     "report_properties": {
      "rowId": "l6bMEDM7mmkgLAYM3Cx11y"
     },
     "type": "CODE"
    }
   },
   "outputs": [],
   "source": [
    "notebook.codePreprocessorsProcessor.unregister((processors!! as List<CodePreprocessor>)[0])"
   ]
  },
  {
   "cell_type": "code",
   "execution_count": null,
   "metadata": {
    "datalore": {
     "hide_input_from_viewers": false,
     "hide_output_from_viewers": false,
     "node_id": "NsralVlhrNcMb9qo6aYVoD",
     "report_properties": {
      "rowId": "uMUYx3GxM8W3gSyXYyndH7"
     },
     "type": "CODE"
    }
   },
   "outputs": [],
   "source": [
    "val processors2 = notebook.codePreprocessorsProcessor.registeredExtensions().toList()\n",
    "println(processors2)"
   ]
  },
  {
   "attachments": {},
   "cell_type": "markdown",
   "metadata": {
    "datalore": {
     "hide_input_from_viewers": false,
     "hide_output_from_viewers": false,
     "node_id": "Yuom2vfRznicODzeNz2iWH",
     "report_properties": {
      "rowId": "uA1w1Ni8u1amC6sqba2deq"
     },
     "type": "MD"
    }
   },
   "source": [
    "## Reflection- and compile-based postprocessing"
   ]
  },
  {
   "attachments": {},
   "cell_type": "markdown",
   "metadata": {
    "datalore": {
     "hide_input_from_viewers": false,
     "hide_output_from_viewers": false,
     "node_id": "fI6J2geUPju5oQkqKb6UJL",
     "report_properties": {
      "rowId": "UQMvJcHI0ln68VZJIE06He"
     },
     "type": "MD"
    }
   },
   "source": [
    "As we discussed above, there is possibility to add after-evaluation callbacks.\n",
    "There is a possibility to consider script instance as well. Script instance\n",
    "contains all top-level variables and functions you define as members. Let's take a look"
   ]
  },
  {
   "cell_type": "code",
   "execution_count": null,
   "metadata": {
    "datalore": {
     "hide_input_from_viewers": false,
     "hide_output_from_viewers": false,
     "node_id": "cuf7gLKdl8bK8RhWcRP5JX",
     "report_properties": {
      "rowId": "JIR4tHKUJupbyHezxDu6rB"
     },
     "type": "CODE"
    }
   },
   "outputs": [],
   "source": [
    "import kotlin.reflect.KProperty\n",
    "import kotlin.reflect.KProperty1\n",
    "import kotlin.reflect.full.memberFunctions\n",
    "import kotlin.reflect.full.memberProperties\n",
    "\n",
    "USE {\n",
    "    afterCellExecution { snippetInstance, _ ->\n",
    "        val kClass = snippetInstance::class\n",
    "        println(\n",
    "            \"\"\"\n",
    "Variables:\n",
    "${\n",
    "    kClass.memberProperties.joinToString(\"\\n\") { prop ->\n",
    "        \"${prop.name} = ${\n",
    "            (prop as KProperty1<Any, Any?>).get(\n",
    "                snippetInstance\n",
    "            )\n",
    "        }\"\n",
    "    }\n",
    "}\n",
    "\n",
    "Functions:\n",
    "${kClass.memberFunctions.joinToString(\"\\n\") { f -> f.name }}\n",
    "        \"\"\"\n",
    "        )\n",
    "    }\n",
    "}"
   ]
  },
  {
   "cell_type": "code",
   "execution_count": null,
   "metadata": {
    "datalore": {
     "hide_input_from_viewers": false,
     "hide_output_from_viewers": false,
     "node_id": "fwCdP3B5jvwkKrMOew4DbM",
     "report_properties": {
      "rowId": "NvyjPbw6vlV9DWit5NXRvi"
     },
     "type": "CODE"
    }
   },
   "outputs": [],
   "source": [
    "val myVar1 = 42\n",
    "val myVar2 = \"str\"\n",
    "\n",
    "fun myFun1() { println(\"fun called\") }"
   ]
  },
  {
   "cell_type": "code",
   "execution_count": null,
   "metadata": {
    "datalore": {
     "hide_input_from_viewers": false,
     "hide_output_from_viewers": false,
     "node_id": "Rdv5QgxSWWOGEYOw56HZ3H",
     "report_properties": {
      "rowId": "DMUBf9e38abIudGGGHZrk4"
     },
     "type": "CODE"
    }
   },
   "outputs": [],
   "source": [
    "notebook.afterCellExecutionsProcessor.unregisterAll()"
   ]
  },
  {
   "attachments": {},
   "cell_type": "markdown",
   "metadata": {
    "datalore": {
     "hide_input_from_viewers": false,
     "hide_output_from_viewers": false,
     "node_id": "Iw3cA7GOJzTSMejCwXURkk",
     "report_properties": {
      "rowId": "Ue3t61m1qFdbl9fwdraTDd"
     },
     "type": "MD"
    }
   },
   "source": [
    "Let's now try to do something compile-time based. We start with file annotations processing"
   ]
  },
  {
   "cell_type": "code",
   "execution_count": null,
   "metadata": {
    "datalore": {
     "hide_input_from_viewers": false,
     "hide_output_from_viewers": false,
     "node_id": "5OjDKIR999WfJF08kVA86Y",
     "report_properties": {
      "rowId": "ftKvOUhM7UYCFRG8iznQP0"
     },
     "type": "CODE"
    }
   },
   "outputs": [],
   "source": [
    "USE {\n",
    "    onFileAnnotation<Suppress> {\n",
    "        val myAnno = it.first() as Suppress\n",
    "        println(\"Warnings suppressed: \" + myAnno.names.toList())\n",
    "    }\n",
    "}"
   ]
  },
  {
   "cell_type": "code",
   "execution_count": null,
   "metadata": {
    "datalore": {
     "hide_input_from_viewers": false,
     "hide_output_from_viewers": false,
     "node_id": "Nh3EpmYl0tBAxGwwqwXQNB",
     "report_properties": {
      "rowId": "unVxCJ8mv1nzlS9snliOpW"
     },
     "type": "CODE"
    }
   },
   "outputs": [],
   "source": [
    "@file:Suppress(\"UNUSED_PARAMETER\")\n",
    "\n",
    "fun u(unusedArg: Int) = 44"
   ]
  },
  {
   "attachments": {},
   "cell_type": "markdown",
   "metadata": {
    "datalore": {
     "hide_input_from_viewers": false,
     "hide_output_from_viewers": false,
     "node_id": "sANMnKtdLBqWHE0UY4khwY",
     "report_properties": {
      "rowId": "7oBfufAnaB25PwW9IheO4A"
     },
     "type": "MD"
    }
   },
   "source": [
    "We can also handle annotations for classes. They are runtime-based."
   ]
  },
  {
   "cell_type": "code",
   "execution_count": null,
   "metadata": {
    "datalore": {
     "hide_input_from_viewers": false,
     "hide_output_from_viewers": false,
     "node_id": "fPWAxrOHL7h1vqTLkbapvJ",
     "report_properties": {
      "rowId": "ZgdMbkYUbDk204pfAfvdSz"
     },
     "type": "CODE"
    }
   },
   "outputs": [],
   "source": [
    "annotation class MyAnnotation"
   ]
  },
  {
   "cell_type": "code",
   "execution_count": null,
   "metadata": {
    "datalore": {
     "hide_input_from_viewers": false,
     "hide_output_from_viewers": false,
     "node_id": "zKc6ZM3mWDVbaZDBzRv58R",
     "report_properties": {
      "rowId": "NylSfpzWwx01t38GW0vXGS"
     },
     "type": "CODE"
    }
   },
   "outputs": [],
   "source": [
    "USE {\n",
    "    onClassAnnotation<MyAnnotation> { println(\"Annotated classes: $it\") }\n",
    "}"
   ]
  },
  {
   "cell_type": "code",
   "execution_count": null,
   "metadata": {
    "datalore": {
     "hide_input_from_viewers": false,
     "hide_output_from_viewers": false,
     "node_id": "iIk33g296Bt6B27UvrTDyz",
     "report_properties": {
      "rowId": "Eq0K2et7uGLQlKSnAWm8Uq"
     },
     "type": "CODE"
    }
   },
   "outputs": [],
   "source": [
    "@MyAnnotation\n",
    "class MyClass\n",
    "\n",
    "class MyClass2\n",
    "\n",
    "@MyAnnotation\n",
    "interface MyInterface3\n",
    "\n",
    "3 + 3"
   ]
  },
  {
   "cell_type": "code",
   "execution_count": null,
   "metadata": {
    "datalore": {
     "hide_input_from_viewers": false,
     "hide_output_from_viewers": false,
     "node_id": "5VdHBYcZNscUy0ou5yUMKt",
     "report_properties": {
      "rowId": "eaAFdDYc1oCRRGDgPy8AGJ"
     },
     "type": "CODE"
    }
   },
   "outputs": [],
   "source": [
    "class MyData\n",
    "\n",
    "USE {\n",
    "    onVariable<MyData> { t, kProperty ->\n",
    "        execute(\"val gen_${kProperty.name} = 1\")\n",
    "    }\n",
    "//    updateVariable<MyData> { t, kProperty ->\n",
    "//        execute(\"\")\n",
    "//\n",
    "//    }\n",
    "}"
   ]
  },
  {
   "cell_type": "code",
   "execution_count": null,
   "metadata": {
    "datalore": {
     "hide_input_from_viewers": false,
     "hide_output_from_viewers": false,
     "node_id": "MgfPiwZIKmWInsmZlCnsHI",
     "report_properties": {
      "rowId": "soaq6Yi9OYf8mQbpJRCb7j"
     },
     "type": "CODE"
    }
   },
   "outputs": [],
   "source": [
    "val d = MyData()"
   ]
  },
  {
   "cell_type": "code",
   "execution_count": null,
   "metadata": {
    "datalore": {
     "hide_input_from_viewers": false,
     "hide_output_from_viewers": false,
     "node_id": "QK41I4Epmue1zjnyHgICo8",
     "report_properties": {
      "rowId": "kBanpx6Ot83NVP52jes2xZ"
     },
     "type": "CODE"
    }
   },
   "outputs": [],
   "source": [
    "gen_d"
   ]
  },
  {
   "attachments": {},
   "cell_type": "markdown",
   "metadata": {
    "datalore": {
     "hide_input_from_viewers": false,
     "hide_output_from_viewers": false,
     "node_id": "8CNMoO5jhodouuWOJYRJBP",
     "report_properties": {
      "rowId": "mptCNNSClB79mlxA6WYEe4"
     },
     "type": "MD"
    }
   },
   "source": [
    "## Variables reports"
   ]
  },
  {
   "cell_type": "code",
   "execution_count": null,
   "metadata": {
    "datalore": {
     "hide_input_from_viewers": false,
     "hide_output_from_viewers": false,
     "node_id": "5ahvq3kILgZ4xr0Jt8UZUV",
     "report_properties": {
      "rowId": "g97VskGuaBU5jyi2xxOJUb"
     },
     "type": "CODE"
    }
   },
   "outputs": [],
   "source": [
    "notebook.variablesReport"
   ]
  },
  {
   "cell_type": "code",
   "execution_count": null,
   "metadata": {
    "datalore": {
     "hide_input_from_viewers": false,
     "hide_output_from_viewers": false,
     "node_id": "fLOUvAhGCF8NRHi1PWmTBe",
     "report_properties": {
      "rowId": "Fes2WbRkwHV6Du6NNpNfN8"
     },
     "type": "CODE"
    }
   },
   "outputs": [],
   "source": [
    "USE {\n",
    "    markVariableInternal { prop ->\n",
    "        prop.name.startsWith(\"___\")\n",
    "    }\n",
    "}"
   ]
  },
  {
   "cell_type": "code",
   "execution_count": null,
   "metadata": {
    "datalore": {
     "hide_input_from_viewers": false,
     "hide_output_from_viewers": false,
     "node_id": "KoOWWoR61ZGylladTKqlt5",
     "report_properties": {
      "rowId": "9FJyAOc7qD5ZKKsxhS2plB"
     },
     "type": "CODE"
    }
   },
   "outputs": [],
   "source": [
    "val ___b = 8\n",
    "val b = 9"
   ]
  },
  {
   "cell_type": "code",
   "execution_count": null,
   "metadata": {
    "datalore": {
     "hide_input_from_viewers": false,
     "hide_output_from_viewers": false,
     "node_id": "Se41f1KLqwakQF9AeTOsr7",
     "report_properties": {
      "rowId": "dEtLSwVj8RQQMjcZQlsPhB"
     },
     "type": "CODE"
    }
   },
   "outputs": [],
   "source": [
    "notebook.variablesReport"
   ]
  },
  {
   "attachments": {},
   "cell_type": "markdown",
   "metadata": {
    "datalore": {
     "hide_input_from_viewers": false,
     "hide_output_from_viewers": false,
     "node_id": "noC2jHXlVoQ3PMfuElXPoG",
     "report_properties": {
      "rowId": "9a8AAkac3yjxfQQJywjA8z"
     },
     "type": "MD"
    }
   },
   "source": [
    "## Auxiliary"
   ]
  },
  {
   "cell_type": "code",
   "execution_count": null,
   "metadata": {
    "datalore": {
     "hide_input_from_viewers": false,
     "hide_output_from_viewers": false,
     "node_id": "gyyNLLGMnX9FzdAXqkW1uA",
     "report_properties": {
      "rowId": "bK2uTOWSiI8RG4NCcZz9LY"
     },
     "type": "CODE"
    }
   },
   "outputs": [],
   "source": [
    "// You can set minimal supported version of kernel\n",
    "USE {\n",
    "    setMinimalKernelVersion(\"0.11.0.365\")\n",
    "}"
   ]
  },
  {
   "cell_type": "code",
   "execution_count": null,
   "metadata": {
    "datalore": {
     "hide_input_from_viewers": false,
     "hide_output_from_viewers": false,
     "node_id": "TN8rb2Cg0tKiEYhimMLvhV",
     "report_properties": {
      "rowId": "PiIX4Cd5LWPealJqQT75s7"
     },
     "type": "CODE"
    }
   },
   "outputs": [],
   "source": [
    "USE {\n",
    "    setDescription(\"Very good library\")\n",
    "    setWebsite(\"https://cool.site\")\n",
    "}"
   ]
  }
 ],
 "metadata": {
  "datalore": {
   "base_environment": "default",
   "computation_mode": "JUPYTER",
   "package_manager": "pip",
   "packages": [
    {
     "name": "kotlin-jupyter-kernel",
     "source": "PIP",
     "version": "0.11.0.365"
    }
   ],
   "report_row_ids": [
    "0ON8yI917hwj8FeK0pQsky",
    "vS92wiTvpFntHSEMCrr5H9",
    "3XSS7u0TNIQpjxsTLZoRig",
    "9aQzeJN8aSKkrM8z1a8Acs",
    "XiD8FUF2KgFyi8XBVKQpnU",
    "guaD3yArd3wnoMlMhxLe4X",
    "iUfleWm1l7UrnMboME6qdN",
    "SZQ4DmXm4LKPZXSWKa2FUa",
    "SqdpEchM5GWiblQZFplRpl",
    "YrLfbBZxK3gmzAjhOcToTI",
    "aY56fUvdq8nKDNJRhibmjc",
    "cM7Eec2U1CVBlHSH17Rg1D",
    "c3ukpEDkef9NnK5W6m80fX",
    "bJriUMfF1ALMgCZRqL2vPR",
    "eg2gxPucspll8gUsgPMeml",
    "WOxFiL3cGnwp0EfdM7ZMHv",
    "PwhJpKfF01V5FgWZ0vKmJH",
    "ajiBPydxHG4Xeq9tlTUVNm",
    "trd9FQC5p4kj2twt1NSdZi",
    "ytCzH78nG3CehElCoOlCp2",
    "kIehA33S1UmxSoILQBOezz",
    "loTaywakOhZgSG9nNxroBD",
    "aRiAfUct8tkDWLUoCXSPUa",
    "29gNY5AfVcwwJIu9XdIeZC",
    "qPr8FSa9A021OrxQcpqgvf",
    "5H8VGC7gJEfYKSDQ1wDrFw",
    "LEj97CaHd6FEIUoWTDWrUd",
    "kUqpFEoT4wdrCyvaRjlL9U",
    "83T4EixM904negk4PspoX9",
    "jiBee7WXAMh0dRE0mXCwYJ",
    "vWW1rKGiTC5wCiRppqSPtl",
    "NZYYw8krWxxsn6ViFn8HQZ",
    "dr2BNXz8zjk4Heei7SHzTo",
    "HLOTmBX4YcaBXoCInGaWBA",
    "sZDxeSOclpqLQU6I3U4ZFU",
    "XJdz2W54VQ71MD37E7zK44",
    "sWNQSLVUcaeEBmAPpke16g",
    "9uUmhY5IEWb0F9Z4LLL9ns",
    "9aUzTpm3Fs3zjX6Fl5svDH",
    "XKeLbzujSGyt7sGXweJGW6",
    "TjL2Gby4DlurAmXZNsOMiY",
    "FSrS8i1Hfq5tw0NeYR13tC",
    "wCZCvAr5I4GqhHJUWcEKSL",
    "8RvJheV7qmMV3TgAjrClo9",
    "cZG2Gg1q6ricyrJ2obqEVN",
    "MgHGwgpl2ke1SqG0BvCeuI",
    "CKP7bVtnKhgS7hYqLrbKIs",
    "FYVprXZJX8ybIkUdRYlbMC",
    "3CkWbCch8Jhw0YWvzybrWe",
    "yO7NShs20PgUXH62mQECW9",
    "ueDFLSiaxErv3sQNrMRxQK",
    "Zfx5UVcbiQybfkOTQunf2u",
    "mEXNvt604KWPfHBDZf3wLy",
    "uP4CXk9t9NAos3ns4xyVrl",
    "XsGdpQCPHSyqtXVbcGgYN4",
    "pHiR3R2hbskzidNu8lLsT0",
    "y1qxBTRSDNmRIZDSEXtwTP",
    "HAMo4XcsvceFepwnsltw4q",
    "qDjMyIfpi7x9tS6RQm0eqH",
    "Nd5ZojCHu4qwbynpIuulr9",
    "4hEPWmIcECUaChEgXJrN0S",
    "Qd052RbLjMEDY3x2JGGqTv",
    "MBhVi2ZZKdBe0dT3idTCsR",
    "X5HduZd3JUswZqdIvQWcvr",
    "9nzoHcpCP1GLrQWAukO1fW",
    "ffdXcOShKpmT2VFamXtJoC",
    "kHqcBGP4zD4qWEOevgWkNs",
    "gdPUAVfcoA8aRXf03ir1fe",
    "82XbePaUlOwT2VXGYcd3i1",
    "4V66M4w1UlwOuLZ5IY81NX",
    "fYC5xnKtUSpYiFLT4HkPws",
    "kuzi0a4lenTKR7ytAIYZmk",
    "NOfKq0qMhXm4RcKXXqyYwo",
    "dDJZFeeBhojcOcn3fSLEN9",
    "rmLFvTENMlhrdGdMmhlyIY",
    "pkdocjfEgkHGZkNZEg0qCd",
    "2L3O1gtgQ8JkbcyvVkKWfr",
    "pOyf1UlbzzgBt6BrEgyP7E",
    "96w8EcjnewffqtxVvAuwxe",
    "kIaSOBKE2g3ETEsImhWpdg",
    "llihElBjAad2oVi7hWmWAx",
    "l6bMEDM7mmkgLAYM3Cx11y",
    "uMUYx3GxM8W3gSyXYyndH7",
    "uA1w1Ni8u1amC6sqba2deq",
    "UQMvJcHI0ln68VZJIE06He",
    "JIR4tHKUJupbyHezxDu6rB",
    "NvyjPbw6vlV9DWit5NXRvi",
    "DMUBf9e38abIudGGGHZrk4",
    "Ue3t61m1qFdbl9fwdraTDd",
    "ftKvOUhM7UYCFRG8iznQP0",
    "unVxCJ8mv1nzlS9snliOpW",
    "7oBfufAnaB25PwW9IheO4A",
    "ZgdMbkYUbDk204pfAfvdSz",
    "NylSfpzWwx01t38GW0vXGS",
    "Eq0K2et7uGLQlKSnAWm8Uq",
    "eaAFdDYc1oCRRGDgPy8AGJ",
    "soaq6Yi9OYf8mQbpJRCb7j",
    "kBanpx6Ot83NVP52jes2xZ",
    "mptCNNSClB79mlxA6WYEe4",
    "g97VskGuaBU5jyi2xxOJUb",
    "Fes2WbRkwHV6Du6NNpNfN8",
    "9FJyAOc7qD5ZKKsxhS2plB",
    "dEtLSwVj8RQQMjcZQlsPhB",
    "9a8AAkac3yjxfQQJywjA8z",
    "bK2uTOWSiI8RG4NCcZz9LY",
    "PiIX4Cd5LWPealJqQT75s7"
   ],
   "version": 3
  },
  "kernelspec": {
   "display_name": "Kotlin",
   "language": "kotlin",
   "name": "kotlin"
  },
  "language_info": {
   "codemirror_mode": "text/x-kotlin",
   "file_extension": ".kt",
   "mimetype": "text/x-kotlin",
   "name": "kotlin",
   "nbconvert_exporter": "",
   "pygments_lexer": "kotlin",
   "version": "1.9.10"
  }
 },
 "nbformat": 4,
 "nbformat_minor": 4
}
