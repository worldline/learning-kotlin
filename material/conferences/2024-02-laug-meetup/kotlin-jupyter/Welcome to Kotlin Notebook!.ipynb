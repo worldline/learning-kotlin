{
 "cells": [
  {
   "cell_type": "markdown",
   "metadata": {},
   "source": [
    "# Welcome to the Kotlin Notebook!"
   ]
  },
  {
   "cell_type": "markdown",
   "metadata": {},
   "source": [
    "## Basics"
   ]
  },
  {
   "cell_type": "markdown",
   "metadata": {},
   "source": [
    "Let's start with something simple: execute a cell with a simple arithmetics and immediately see the result."
   ]
  },
  {
   "cell_type": "code",
   "execution_count": null,
   "metadata": {
    "ExecuteTime": {
     "end_time": "2023-07-01T16:24:56.416908100Z",
     "start_time": "2023-07-01T16:24:55.936894100Z"
    }
   },
   "outputs": [],
   "source": [
    "2 + 2"
   ]
  },
  {
   "cell_type": "markdown",
   "metadata": {},
   "source": [
    "Execution results could be saved in variables and reused"
   ]
  },
  {
   "cell_type": "code",
   "execution_count": null,
   "metadata": {
    "ExecuteTime": {
     "end_time": "2023-07-01T16:24:56.780894800Z",
     "start_time": "2023-07-01T16:24:56.405912Z"
    }
   },
   "outputs": [],
   "source": [
    "val result = 3 * 14"
   ]
  },
  {
   "cell_type": "code",
   "execution_count": null,
   "metadata": {
    "ExecuteTime": {
     "end_time": "2023-07-01T16:24:57.002898200Z",
     "start_time": "2023-07-01T16:24:56.669899300Z"
    }
   },
   "outputs": [],
   "source": [
    "result"
   ]
  },
  {
   "cell_type": "code",
   "execution_count": null,
   "metadata": {
    "ExecuteTime": {
     "end_time": "2023-07-01T16:24:57.307907Z",
     "start_time": "2023-07-01T16:24:56.854896600Z"
    }
   },
   "outputs": [],
   "source": [
    "(Out[3] as Int) / 2"
   ]
  },
  {
   "cell_type": "markdown",
   "metadata": {},
   "source": [
    "Variables defined in the notebook can lose their nullability if they are not actually nulls"
   ]
  },
  {
   "cell_type": "code",
   "execution_count": null,
   "metadata": {
    "ExecuteTime": {
     "end_time": "2023-07-01T16:24:57.817903600Z",
     "start_time": "2023-07-01T16:24:57.161909200Z"
    }
   },
   "outputs": [],
   "source": [
    "val a1: Int = 1\n",
    "val a2: Int? = 2\n",
    "val a3: Int? = null"
   ]
  },
  {
   "cell_type": "code",
   "execution_count": null,
   "metadata": {
    "ExecuteTime": {
     "end_time": "2023-07-01T16:24:58.061904900Z",
     "start_time": "2023-07-01T16:24:57.670896100Z"
    }
   },
   "outputs": [],
   "source": [
    "a1 + a2 // OK, a2 was converted to Int"
   ]
  },
  {
   "cell_type": "code",
   "execution_count": null,
   "metadata": {
    "ExecuteTime": {
     "end_time": "2023-07-01T16:24:58.473901300Z",
     "start_time": "2023-07-01T16:24:57.896894200Z"
    }
   },
   "outputs": [],
   "source": [
    "a1 + a3 // compile-time error"
   ]
  },
  {
   "cell_type": "markdown",
   "metadata": {},
   "source": [
    "## Rich outputs"
   ]
  },
  {
   "cell_type": "markdown",
   "metadata": {},
   "source": [
    "Outputs might be not only plain text. They could also be images and HTML. HTML can contain CSS and JavaScript."
   ]
  },
  {
   "cell_type": "code",
   "execution_count": null,
   "metadata": {
    "ExecuteTime": {
     "end_time": "2023-07-01T16:24:58.725894100Z",
     "start_time": "2023-07-01T16:24:58.395028700Z"
    }
   },
   "outputs": [],
   "source": [
    "HTML(\"\"\"\n",
    "    <p>Counter: <span id=\"ctr\">0</span> <button onclick=\"inc()\">Increment</button></p>\n",
    "    <script>\n",
    "      function inc() {\n",
    "        let counter = document.getElementById(\"ctr\")\n",
    "        counter.innerHTML = parseInt(counter.innerHTML) + 1;\n",
    "      }\n",
    "    </script>\n",
    "\"\"\")"
   ]
  },
  {
   "cell_type": "markdown",
   "metadata": {},
   "source": [
    "**NB!** If your outputs contain JS, notebook should be marked as trusted.\n",
    "\n",
    "![trusted-notebook](screenshots/screenshot3.png)"
   ]
  },
  {
   "cell_type": "markdown",
   "metadata": {},
   "source": [
    "Images could be loaded by link. In this case, it won't show if the link breaks or if you lose Internet connection"
   ]
  },
  {
   "cell_type": "code",
   "execution_count": null,
   "metadata": {},
   "outputs": [],
   "source": [
    "%use lib-ext(0.11.0-398)"
   ]
  },
  {
   "cell_type": "code",
   "execution_count": null,
   "metadata": {},
   "outputs": [],
   "source": [
    "Image(\"https://kotlinlang.org/docs/images/kotlin-logo.png\", embed = false).withWidth(300)"
   ]
  },
  {
   "cell_type": "markdown",
   "metadata": {},
   "source": [
    "You can also embed images. In this case they will stay in the notebook forever"
   ]
  },
  {
   "cell_type": "code",
   "execution_count": null,
   "metadata": {},
   "outputs": [],
   "source": [
    "val kotlinMascot = Image(\"https://blog.jetbrains.com/wp-content/uploads/2023/04/DSGN-16174-Blog-post-banner-and-promo-materials-for-post-about-Kotlin-mascot_3.png\", embed = true).withWidth(400)\n",
    "kotlinMascot"
   ]
  },
  {
   "cell_type": "markdown",
   "metadata": {},
   "source": [
    "The cell can also have several outputs, to achieve it use `DISPLAY()` function"
   ]
  },
  {
   "cell_type": "code",
   "execution_count": null,
   "metadata": {},
   "outputs": [],
   "source": [
    "DISPLAY(HTML(\"<h2>Kodee is back!</h2>\"))\n",
    "DISPLAY(kotlinMascot)"
   ]
  },
  {
   "cell_type": "markdown",
   "metadata": {},
   "source": [
    "With Kotlin Notebook, you can also render LaTeX formulae"
   ]
  },
  {
   "cell_type": "code",
   "execution_count": null,
   "metadata": {
    "ExecuteTime": {
     "end_time": "2023-07-01T16:25:36.593896700Z",
     "start_time": "2023-07-01T16:25:31.532914200Z"
    }
   },
   "outputs": [],
   "source": [
    "LATEX(\"c^2 = a^2 + b^2 - 2 a b \\\\cos\\\\alpha\")"
   ]
  },
  {
   "cell_type": "markdown",
   "metadata": {},
   "source": [
    "You can also output BufferedImage's. They are embedded into notebook"
   ]
  },
  {
   "cell_type": "code",
   "execution_count": null,
   "metadata": {
    "ExecuteTime": {
     "end_time": "2023-07-01T16:25:36.659903900Z",
     "start_time": "2023-07-01T16:25:33.940897200Z"
    }
   },
   "outputs": [],
   "source": [
    "import java.awt.Color\n",
    "import java.awt.image.BufferedImage\n",
    "\n",
    "val width = 300\n",
    "val height = width\n",
    "\n",
    "val image = BufferedImage(width, height, BufferedImage.TYPE_INT_ARGB)\n",
    "\n",
    "val graphics = image.createGraphics()\n",
    "graphics.background = Color.BLACK\n",
    "graphics.clearRect(0, 0, width, height)\n",
    "graphics.setRenderingHint(\n",
    "    java.awt.RenderingHints.KEY_ANTIALIASING,\n",
    "    java.awt.RenderingHints.VALUE_ANTIALIAS_ON\n",
    ")\n",
    "graphics.color = Color.WHITE\n",
    "graphics.fillRect(width / 10, height * 8 / 10, width * 10 / 20, height / 10)\n",
    "graphics.dispose()\n",
    "\n",
    "image"
   ]
  },
  {
   "cell_type": "markdown",
   "metadata": {},
   "source": [
    "Generally, you can display any output using `mimeResult` function.\n",
    "We're using [Jupyter approach](https://docs.jupyter.org/en/latest/reference/mimetype.html) for outputs."
   ]
  },
  {
   "cell_type": "code",
   "execution_count": null,
   "metadata": {
    "ExecuteTime": {
     "end_time": "2023-07-01T16:25:36.742900200Z",
     "start_time": "2023-07-01T16:25:34.835907800Z"
    }
   },
   "outputs": [],
   "source": [
    "mimeResult(\n",
    "    MimeTypes.PLAIN_TEXT to \"JetBrains logo\",\n",
    "    MimeTypes.HTML to \"<b>JetBrains</b> logo\"\n",
    ")"
   ]
  },
  {
   "cell_type": "markdown",
   "metadata": {},
   "source": [
    "## Using libraries and dependencies"
   ]
  },
  {
   "cell_type": "markdown",
   "metadata": {},
   "source": [
    "You can always turn on source and binary dependencies of a current project.\n",
    "To do it, use the corresponding button in the toolbar."
   ]
  },
  {
   "cell_type": "code",
   "execution_count": null,
   "metadata": {
    "ExecuteTime": {
     "end_time": "2023-07-01T16:25:37.349895400Z",
     "start_time": "2023-07-01T16:25:35.144897600Z"
    }
   },
   "outputs": [],
   "source": [
    "import java.io.File\n",
    "import javax.imageio.ImageIO\n",
    "\n",
    "fun showScreenshot(id: Any) {\n",
    "    DISPLAY(ImageIO.read(File(\"screenshots/screenshot$id.png\")))\n",
    "}"
   ]
  },
  {
   "cell_type": "code",
   "execution_count": null,
   "metadata": {
    "ExecuteTime": {
     "end_time": "2023-07-01T16:25:37.373896800Z",
     "start_time": "2023-07-01T16:25:35.378898800Z"
    }
   },
   "outputs": [],
   "source": [
    "showScreenshot(1)"
   ]
  },
  {
   "cell_type": "markdown",
   "metadata": {},
   "source": [
    "It is also possible to set these options for the newly created notebooks"
   ]
  },
  {
   "cell_type": "code",
   "execution_count": null,
   "metadata": {
    "ExecuteTime": {
     "end_time": "2023-07-01T16:25:37.400895700Z",
     "start_time": "2023-07-01T16:25:35.697899500Z"
    }
   },
   "outputs": [],
   "source": [
    "showScreenshot(2)"
   ]
  },
  {
   "cell_type": "markdown",
   "metadata": {},
   "source": [
    "Of course, you can depend on various JVM libraries even if you don't have a project in the current scope.\n",
    "The simpliest option we offer is to use predefined library descriptors, you can find which are available using `:help` command or [here](https://github.com/Kotlin/kotlin-jupyter#list-of-supported-libraries)."
   ]
  },
  {
   "cell_type": "code",
   "execution_count": null,
   "metadata": {
    "ExecuteTime": {
     "end_time": "2023-07-01T16:25:37.406894500Z",
     "start_time": "2023-07-01T16:25:36.078898Z"
    }
   },
   "outputs": [],
   "source": [
    ":help"
   ]
  },
  {
   "cell_type": "markdown",
   "metadata": {},
   "source": [
    "Let's try `kotlinx.serialization` library"
   ]
  },
  {
   "cell_type": "code",
   "execution_count": null,
   "metadata": {
    "ExecuteTime": {
     "end_time": "2023-07-01T16:25:37.473896800Z",
     "start_time": "2023-07-01T16:25:36.162916800Z"
    }
   },
   "outputs": [],
   "source": [
    "%use serialization"
   ]
  },
  {
   "cell_type": "markdown",
   "metadata": {},
   "source": [
    "It allows us to serialize and deserialize classes."
   ]
  },
  {
   "cell_type": "code",
   "execution_count": null,
   "metadata": {
    "ExecuteTime": {
     "end_time": "2023-07-01T16:25:38.138906600Z",
     "start_time": "2023-07-01T16:25:36.568902400Z"
    }
   },
   "outputs": [],
   "source": [
    "import kotlinx.serialization.Serializable\n",
    "\n",
    "@Serializable\n",
    "class User(val firstName: String, val lastName: String)"
   ]
  },
  {
   "cell_type": "code",
   "execution_count": null,
   "metadata": {
    "ExecuteTime": {
     "end_time": "2023-07-01T16:25:38.274904200Z",
     "start_time": "2023-07-01T16:25:37.334915300Z"
    }
   },
   "outputs": [],
   "source": [
    "val bob = User(\"Alex\", \"Green\")"
   ]
  },
  {
   "cell_type": "code",
   "execution_count": null,
   "metadata": {
    "ExecuteTime": {
     "end_time": "2023-07-01T16:25:38.381895900Z",
     "start_time": "2023-07-01T16:25:37.448897700Z"
    }
   },
   "outputs": [],
   "source": [
    "Json { prettyPrint = true }.encodeToString(bob)"
   ]
  },
  {
   "cell_type": "markdown",
   "metadata": {},
   "source": [
    "It is possible to specify descriptors' and underlying libraries' versions, write and contribute your own descriptors and much more.\n",
    "You can read about it [here](https://github.com/Kotlin/kotlin-jupyter/blob/master/docs/libraries.md)\n",
    "\n",
    "Also, you can add dependencies for any Maven libraries you want"
   ]
  },
  {
   "cell_type": "code",
   "execution_count": null,
   "metadata": {
    "ExecuteTime": {
     "end_time": "2023-07-01T16:25:41.991897100Z",
     "start_time": "2023-07-01T16:25:37.838994200Z"
    }
   },
   "outputs": [],
   "source": [
    "USE {\n",
    "    repositories {\n",
    "        // Any additional repositories. Maven central is already included\n",
    "        // maven(\"<url>\")\n",
    "    }\n",
    "    dependencies {\n",
    "        // Here we add kandy plotting library\n",
    "        implementation(\"org.jetbrains.kotlinx:kandy-lets-plot:0.4.3\")\n",
    "    }\n",
    "\n",
    "    // Sometimes library integration are loaded transitively and you don't want them to do it.\n",
    "    discardIntegrationTypeNameIf {\n",
    "        it.startsWith(\"org.jetbrains.kotlinx.dataframe.\")\n",
    "    }\n",
    "}"
   ]
  },
  {
   "cell_type": "markdown",
   "metadata": {},
   "source": [
    "## Renderers and other integration features\n",
    "\n",
    "Let's try to conduct an experiment: we'll throw 50 dices and count the sum of points on them.\n",
    "Then, we'll repeat this experiment some reasonable number of times and plot the distribution using kandy library we've just loaded."
   ]
  },
  {
   "cell_type": "code",
   "execution_count": null,
   "metadata": {
    "ExecuteTime": {
     "end_time": "2023-07-01T16:25:45.532895800Z",
     "start_time": "2023-07-01T16:25:41.881901100Z"
    }
   },
   "outputs": [],
   "source": [
    "import kotlin.random.Random\n",
    "\n",
    "fun diceNTimesSum(n: Int): Int {\n",
    "    return (1..n).sumOf { Random.nextInt(1, 7) }\n",
    "}\n",
    "\n",
    "val experimentData = (1..100000).map { diceNTimesSum(50) }.groupBy { it }.mapValues { it.value.size }.entries.sortedBy { it.key }\n",
    "val experimentX = experimentData.map { it.key }\n",
    "val experimentY = experimentData.map { it.value }\n",
    "\n",
    "val gaussPlot = plot {\n",
    "    bars {\n",
    "        x(experimentX)\n",
    "        y(experimentY)\n",
    "    }\n",
    "}\n",
    "gaussPlot"
   ]
  },
  {
   "cell_type": "code",
   "execution_count": null,
   "metadata": {
    "ExecuteTime": {
     "end_time": "2023-07-01T16:25:46.133896700Z",
     "start_time": "2023-07-01T16:25:45.479975700Z"
    }
   },
   "outputs": [],
   "source": [
    "gaussPlot::class"
   ]
  },
  {
   "cell_type": "markdown",
   "metadata": {},
   "source": [
    "As you can see kandy's `Plot` object was rendered to some image. That's because `kandy` library defines a **renderer** for this type of objects. We also can define renderers ourselves."
   ]
  },
  {
   "cell_type": "code",
   "execution_count": null,
   "metadata": {
    "ExecuteTime": {
     "end_time": "2023-07-01T16:26:03.095894200Z",
     "start_time": "2023-07-01T16:25:45.742906200Z"
    }
   },
   "outputs": [],
   "source": [
    "%use dataframe"
   ]
  },
  {
   "cell_type": "code",
   "execution_count": null,
   "metadata": {
    "ExecuteTime": {
     "end_time": "2023-07-01T16:26:03.180935500Z",
     "start_time": "2023-07-01T16:26:02.956908Z"
    }
   },
   "outputs": [],
   "source": [
    "val bob = User(\"Bob\", \"Brown\")\n",
    "bob"
   ]
  },
  {
   "cell_type": "markdown",
   "metadata": {},
   "source": [
    "`User` isn't a data class, that's why it was rendered this way."
   ]
  },
  {
   "cell_type": "code",
   "execution_count": null,
   "metadata": {
    "ExecuteTime": {
     "end_time": "2023-07-01T16:26:04.125939100Z",
     "start_time": "2023-07-01T16:26:03.111033100Z"
    }
   },
   "outputs": [],
   "source": [
    "USE {\n",
    "    // Match is based on runtime type here, beware of type erasure\n",
    "    render<User> { listOf(it).toDataFrame() }\n",
    "}"
   ]
  },
  {
   "cell_type": "code",
   "execution_count": null,
   "metadata": {
    "ExecuteTime": {
     "end_time": "2023-07-01T16:26:04.212895400Z",
     "start_time": "2023-07-01T16:26:03.492908100Z"
    }
   },
   "outputs": [],
   "source": [
    "bob"
   ]
  },
  {
   "cell_type": "markdown",
   "metadata": {},
   "source": [
    "We can also use full syntax for defining renderers. It's verbose but let you do many things"
   ]
  },
  {
   "cell_type": "code",
   "execution_count": null,
   "metadata": {
    "ExecuteTime": {
     "end_time": "2023-07-01T16:26:04.348896900Z",
     "start_time": "2023-07-01T16:26:03.831944200Z"
    }
   },
   "outputs": [],
   "source": [
    "class User2(val name: String)"
   ]
  },
  {
   "cell_type": "code",
   "execution_count": null,
   "metadata": {
    "ExecuteTime": {
     "end_time": "2023-07-01T16:26:05.346896200Z",
     "start_time": "2023-07-01T16:26:03.935910Z"
    }
   },
   "outputs": [],
   "source": [
    "USE {\n",
    "    addRenderer(object : RendererHandler {\n",
    "        override fun replaceVariables(mapping: Map<String, String>): RendererHandler {\n",
    "            return this\n",
    "        }\n",
    "\n",
    "        override val execution: ResultHandlerExecution\n",
    "            get() = ResultHandlerExecution { host, res ->\n",
    "                FieldValue(\"Value of ${res.name} is a user with name ${(res.value as User2).name}\", null)\n",
    "            }\n",
    "\n",
    "        override fun accepts(value: Any?): Boolean {\n",
    "            return value != null && value::class == User2::class\n",
    "        }\n",
    "    })\n",
    "}"
   ]
  },
  {
   "cell_type": "code",
   "execution_count": null,
   "metadata": {
    "ExecuteTime": {
     "end_time": "2023-07-01T16:26:05.785010200Z",
     "start_time": "2023-07-01T16:26:04.733895900Z"
    }
   },
   "outputs": [],
   "source": [
    "User2(\"Felix\")"
   ]
  },
  {
   "cell_type": "markdown",
   "metadata": {},
   "source": [
    "What do the libraries bring except for dependencies and renderers? First of all, default imports.\n",
    "These imports are implicitly added to all subsequent cells."
   ]
  },
  {
   "cell_type": "code",
   "execution_count": null,
   "metadata": {
    "ExecuteTime": {
     "end_time": "2023-07-01T16:26:06.100904600Z",
     "start_time": "2023-07-01T16:26:04.905012700Z"
    }
   },
   "outputs": [],
   "source": [
    "fun loadFileFromGitHub(repositoryUrl: String, filePath: String): String {\n",
    "    val rawUrl = \"$repositoryUrl/raw/master/$filePath\"\n",
    "    val url = URL(rawUrl)\n",
    "    val connection = url.openConnection()\n",
    "    connection.setRequestProperty(\"Accept\", \"application/vnd.github.v3.raw\")\n",
    "\n",
    "    val inputStream = connection.getInputStream()\n",
    "    val content = inputStream.bufferedReader().use { it.readText() }\n",
    "\n",
    "    return content\n",
    "}\n",
    "\n",
    "fun loadDescriptor(name: String) {\n",
    "    val text = loadFileFromGitHub(\"https://github.com/Kotlin/kotlin-jupyter-libraries\", \"$name.json\")\n",
    "    DISPLAY(MIME(\n",
    "        \"text/markdown\" to \"```json\\n$text```\"\n",
    "    ))\n",
    "}"
   ]
  },
  {
   "cell_type": "markdown",
   "metadata": {},
   "source": [
    "Notice `imports` section in the following descriptor:"
   ]
  },
  {
   "cell_type": "code",
   "execution_count": null,
   "metadata": {
    "ExecuteTime": {
     "end_time": "2023-07-01T16:26:06.711895700Z",
     "start_time": "2023-07-01T16:26:05.632909600Z"
    }
   },
   "outputs": [],
   "source": [
    "loadDescriptor(\"kaliningraph\")"
   ]
  },
  {
   "cell_type": "markdown",
   "metadata": {},
   "source": [
    "You might have noticed that almost every descriptor in `Kotlin/kotlin-jupyter-libraries` contains link and description.\n",
    "They are used to build `:help` command output and [our README](https://github.com/Kotlin/kotlin-jupyter#list-of-supported-libraries)"
   ]
  },
  {
   "cell_type": "markdown",
   "metadata": {},
   "source": [
    "## Creating an integration"
   ]
  },
  {
   "cell_type": "markdown",
   "metadata": {},
   "source": [
    "So, we learned the concept of the integration. It is a wrapper on top of the usual Kotlin library that simplifies and elevates the experience of using this library in the notebook.\n",
    "Comprehensive guide to writing library integrations can be found [here](). To inspire you, there is an example of the `dataframe` integration below."
   ]
  },
  {
   "cell_type": "code",
   "execution_count": null,
   "metadata": {
    "ExecuteTime": {
     "end_time": "2023-07-01T16:26:14.046897300Z",
     "start_time": "2023-07-01T16:26:06.491895300Z"
    }
   },
   "outputs": [],
   "source": [
    "%use dataframe"
   ]
  },
  {
   "cell_type": "code",
   "execution_count": null,
   "metadata": {
    "ExecuteTime": {
     "end_time": "2023-07-01T16:26:16.898989Z",
     "start_time": "2023-07-01T16:26:14.024900100Z"
    }
   },
   "outputs": [],
   "source": [
    "val df = DataFrame.read(\"https://raw.githubusercontent.com/mwaskom/seaborn-data/master/iris.csv\")"
   ]
  },
  {
   "cell_type": "markdown",
   "metadata": {},
   "source": [
    "Let's try to investigate the data that we have just read."
   ]
  },
  {
   "cell_type": "code",
   "execution_count": null,
   "metadata": {
    "ExecuteTime": {
     "end_time": "2023-07-01T16:26:17.314907100Z",
     "start_time": "2023-07-01T16:26:16.825895800Z"
    }
   },
   "outputs": [],
   "source": [
    "df.petal_length"
   ]
  },
  {
   "cell_type": "code",
   "execution_count": null,
   "metadata": {
    "ExecuteTime": {
     "end_time": "2023-07-01T16:26:19.919905400Z",
     "start_time": "2023-07-01T16:26:17.097895900Z"
    }
   },
   "outputs": [],
   "source": [
    "df.filter { petal_width >= 1.5 && petal_length < 4.5 }"
   ]
  },
  {
   "cell_type": "markdown",
   "metadata": {},
   "source": [
    "There is also a special variable in the integration to manage display options. For example, we can limit number of displayed rows."
   ]
  },
  {
   "cell_type": "code",
   "execution_count": null,
   "metadata": {
    "ExecuteTime": {
     "end_time": "2023-07-01T16:26:20.048901400Z",
     "start_time": "2023-07-01T16:26:17.569046600Z"
    }
   },
   "outputs": [],
   "source": [
    "dataFrameConfig.display.rowsLimit = 5"
   ]
  },
  {
   "cell_type": "code",
   "execution_count": null,
   "metadata": {
    "ExecuteTime": {
     "end_time": "2023-07-01T16:26:20.813895800Z",
     "start_time": "2023-07-01T16:26:17.765896100Z"
    }
   },
   "outputs": [],
   "source": [
    "df"
   ]
  },
  {
   "cell_type": "markdown",
   "metadata": {},
   "source": [
    "Let's now see what's happening there under the hood. First, we enable debugging logging that will print the code that is executed under the hood."
   ]
  },
  {
   "cell_type": "code",
   "execution_count": null,
   "metadata": {
    "ExecuteTime": {
     "end_time": "2023-07-01T16:26:20.826898500Z",
     "start_time": "2023-07-01T16:26:17.976898300Z"
    }
   },
   "outputs": [],
   "source": [
    "%trackExecution"
   ]
  },
  {
   "cell_type": "markdown",
   "metadata": {},
   "source": [
    "Then, we define some other dataframe."
   ]
  },
  {
   "cell_type": "code",
   "execution_count": null,
   "metadata": {
    "ExecuteTime": {
     "end_time": "2023-07-01T16:26:22.598896Z",
     "start_time": "2023-07-01T16:26:18.109896400Z"
    }
   },
   "outputs": [],
   "source": [
    "val df1 = dataFrameOf(\"A\", \"B\", \"C\")(1, \"Str1\", null, 2, \"Str2\", 3)"
   ]
  },
  {
   "cell_type": "markdown",
   "metadata": {},
   "source": [
    "As you can see, a marker interface `_DataFrameType1` is created and property accessors are generated for it. Let's check what's the type of `df1` now:"
   ]
  },
  {
   "cell_type": "code",
   "execution_count": null,
   "metadata": {
    "ExecuteTime": {
     "end_time": "2023-07-01T16:26:22.896913600Z",
     "start_time": "2023-07-01T16:26:19.412895300Z"
    }
   },
   "outputs": [],
   "source": [
    "::df1"
   ]
  },
  {
   "cell_type": "markdown",
   "metadata": {},
   "source": [
    "So, `df1` now is not simply a `DataFrame<*>`, it's `DataFrame<_DataFrameType1>`. That's exactly what allows us to statically resolve defined property accessors on it."
   ]
  },
  {
   "cell_type": "code",
   "execution_count": null,
   "metadata": {
    "ExecuteTime": {
     "end_time": "2023-07-01T16:26:22.899897600Z",
     "start_time": "2023-07-01T16:26:19.694009700Z"
    }
   },
   "outputs": [],
   "source": [
    "%trackExecution off"
   ]
  },
  {
   "cell_type": "markdown",
   "metadata": {},
   "source": [
    "API that DataFrame uses to achieve all of these is open, and you can try it yourself! The code of the integration is available [here](https://github.com/Kotlin/dataframe/blob/master/core/src/main/kotlin/org/jetbrains/kotlinx/dataframe/jupyter/Integration.kt)"
   ]
  },
  {
   "cell_type": "markdown",
   "metadata": {},
   "source": [
    "## Inter-cell API"
   ]
  },
  {
   "cell_type": "markdown",
   "metadata": {},
   "source": [
    "To use Kotlin Notebook API you don't necessarily need to create a separate file with integration. As it was shown above, you can place in `USE { }` call the same integration that you would\n",
    "place in the standalone library or JSON descriptor. However, notebook offers API to get some information about the current notebook session and to set it up.\n",
    "\n",
    "The main entry point is `notebook`: it allows you to investigate what cells were already executed, what libraries were loaded, what renderers and variable processors are loaded and gives the ability to unload them.\n",
    "Read the documentation of the `Notebook` interface for reliable and actual information about this API"
   ]
  },
  {
   "cell_type": "code",
   "execution_count": null,
   "metadata": {
    "ExecuteTime": {
     "end_time": "2023-07-01T16:26:23.056895600Z",
     "start_time": "2023-07-01T16:26:19.711907100Z"
    }
   },
   "outputs": [],
   "source": [
    "notebook.cellsList.take(5).map { \"> \" + it.code }.joinToString(\"\\n\")"
   ]
  },
  {
   "cell_type": "code",
   "execution_count": null,
   "metadata": {
    "ExecuteTime": {
     "end_time": "2023-07-01T16:26:23.292899900Z",
     "start_time": "2023-07-01T16:26:20.125896500Z"
    }
   },
   "outputs": [],
   "source": [
    "notebook.kernelVersion"
   ]
  },
  {
   "cell_type": "code",
   "execution_count": null,
   "metadata": {
    "ExecuteTime": {
     "end_time": "2023-07-01T16:26:23.338896200Z",
     "start_time": "2023-07-01T16:26:20.302896300Z"
    }
   },
   "outputs": [],
   "source": [
    "notebook.cellVariables"
   ]
  },
  {
   "cell_type": "markdown",
   "metadata": {},
   "source": [
    "Also, a couple of options is available with `SessionOptions` object."
   ]
  },
  {
   "cell_type": "code",
   "execution_count": null,
   "metadata": {
    "ExecuteTime": {
     "end_time": "2023-07-01T16:26:23.354896700Z",
     "start_time": "2023-07-01T16:26:20.468007400Z"
    }
   },
   "outputs": [],
   "source": [
    "SessionOptions.resolveSources // could be switched off to speed up dependencies loading process"
   ]
  },
  {
   "cell_type": "code",
   "execution_count": null,
   "metadata": {
    "ExecuteTime": {
     "end_time": "2023-07-01T16:26:23.377895300Z",
     "start_time": "2023-07-01T16:26:20.696900200Z"
    }
   },
   "outputs": [],
   "source": [
    "SessionOptions.resolveMpp // could be switched on to resolve MPP libraries such as kotlinx-serialization from \"universal\" Maven coordinates"
   ]
  },
  {
   "cell_type": "markdown",
   "metadata": {},
   "source": [
    "## Sharing the notebooks\n",
    "\n",
    "Essentially, Kotlin notebooks are Jupyter notebooks. It means they could be opened, edited and run with any Jupyter client such as [Jupyter Notebook](https://jupyter.org/),\n",
    "[Jupyter Lab](https://jupyterlab.readthedocs.io/en/latest/) and [Datalore](https://www.jetbrains.com/datalore/). [We plan](https://youtrack.jetbrains.com/issue/KTNB-291/Datalore-Share-action) to integrate with Datalore better in the future.\n",
    "The only limitation is that project dependencies will be not included into the notebook in other clients. However, you can build the logic based on Jupyter client type:"
   ]
  },
  {
   "cell_type": "code",
   "execution_count": null,
   "metadata": {
    "ExecuteTime": {
     "end_time": "2023-07-01T16:26:23.386896200Z",
     "start_time": "2023-07-01T16:26:20.915897500Z"
    }
   },
   "outputs": [],
   "source": [
    "if (notebook.jupyterClientType != JupyterClientType.KOTLIN_NOTEBOOK) {\n",
    "    // load substitutive dependencies\n",
    "}"
   ]
  },
  {
   "cell_type": "markdown",
   "metadata": {},
   "source": [
    "Notebooks could be also loaded and viewed on GitHub (including gists). Limitation there is that JS isn't executed in the outputs.\n",
    "To overcome it in `kandy`, we [add extra SVG output that is hidden from JS](https://github.com/Kotlin/kandy/blob/main/kandy-lets-plot/src/main/kotlin/org/jetbrains/kotlinx/kandy/letsplot/util/rendering.kt#L46).\n",
    "\n",
    "Kotlin Notebooks could be also converted to some other format using [nbconvert tool](https://nbconvert.readthedocs.io/en/latest/)."
   ]
  },
  {
   "cell_type": "markdown",
   "metadata": {},
   "source": [
    "## What's next?\n",
    "\n",
    "Kotlin Notebook project is experimental and actively developed. Use the latest version of plugin to be in sync.\n",
    "We eagerly need your stories and feedback: share them in the dedicated [#notebooks](https://kotlinlang.slack.com/archives/C05333T208Y) Slack channel or in our [issue tracker](https://youtrack.jetbrains.com/issues/KTNB).\n",
    "\n",
    "See you in the next cell!"
   ]
  },
  {
   "cell_type": "code",
   "execution_count": null,
   "metadata": {
    "ExecuteTime": {
     "end_time": "2023-07-01T16:26:23.388895Z",
     "start_time": "2023-07-01T16:26:21.279905600Z"
    }
   },
   "outputs": [],
   "source": []
  }
 ],
 "metadata": {
  "kernelspec": {
   "display_name": "Kotlin",
   "language": "kotlin",
   "name": "kotlin"
  },
  "ktnbPluginMetadata": {
   "isAddProjectLibrariesToClasspath": false
  },
  "language_info": {
   "codemirror_mode": "text/x-kotlin",
   "file_extension": ".kt",
   "mimetype": "text/x-kotlin",
   "name": "kotlin",
   "nbconvert_exporter": "",
   "pygments_lexer": "kotlin",
   "version": "1.9.10"
  }
 },
 "nbformat": 4,
 "nbformat_minor": 1
}
