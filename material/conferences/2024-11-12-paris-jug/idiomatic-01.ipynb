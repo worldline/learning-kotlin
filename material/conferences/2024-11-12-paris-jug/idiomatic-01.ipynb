{
 "cells": [
  {
   "metadata": {},
   "cell_type": "markdown",
   "source": [
    "# Idiomatic Kotlin @ Paris JUG\n",
    "Date: 2024 / 11 / 12"
   ]
  },
  {
   "metadata": {
    "collapsed": true,
    "ExecuteTime": {
     "end_time": "2024-11-12T08:46:52.080221800Z",
     "start_time": "2024-11-12T08:46:51.711403Z"
    }
   },
   "cell_type": "code",
   "outputs": [
    {
     "name": "stdout",
     "output_type": "stream",
     "text": [
      "Hello Paris JUG\r\n"
     ]
    }
   ],
   "execution_count": 1,
   "source": [
    "val event = \"Paris JUG\"\n",
    "println(\"Hello $event\") // String template"
   ]
  },
  {
   "metadata": {
    "ExecuteTime": {
     "end_time": "2024-11-12T08:46:52.606006400Z",
     "start_time": "2024-11-12T08:46:52.182420600Z"
    }
   },
   "cell_type": "code",
   "outputs": [
    {
     "name": "stdout",
     "output_type": "stream",
     "text": [
      "PARIS JUG\r\n"
     ]
    }
   ],
   "execution_count": 2,
   "source": [
    "// Extension function: add a function to a class without inhetitance\n",
    "fun String.randomCase(): String {\n",
    "    // If expression\n",
    "    return if (Math.random() > 0.5) uppercase() else lowercase()\n",
    "}\n",
    "println(event.randomCase())"
   ]
  },
  {
   "metadata": {
    "ExecuteTime": {
     "end_time": "2024-11-12T20:11:18.362206600Z",
     "start_time": "2024-11-12T20:11:18.090413800Z"
    }
   },
   "cell_type": "code",
   "source": [
    "// Default values for arguments\n",
    "fun String.randomCaseChance(chance: Double = 0.5, offset: Int = 0) =\n",
    "    // Single-expression functions with = (return type is inferred)\n",
    "    (if (Math.random() > chance) uppercase() else lowercase()).drop(offset)\n",
    "// Argument labels\n",
    "println(event.randomCaseChance(offset = 3))\n",
    "println(event.randomCaseChance(\n",
    "    \n",
    "    offset = 2,\n",
    "    chance = 0.9,\n",
    "    )\n",
    ")"
   ],
   "outputs": [
    {
     "name": "stdout",
     "output_type": "stream",
     "text": [
      "is jug\r\n",
      "ris jug\r\n"
     ]
    }
   ],
   "execution_count": 10
  },
  {
   "metadata": {
    "ExecuteTime": {
     "end_time": "2024-11-12T08:46:53.633203200Z",
     "start_time": "2024-11-12T08:46:53.337385800Z"
    }
   },
   "cell_type": "code",
   "source": [
    "// Functions are 1st class citizen\n",
    "fun String.transformToInt(transformer: (String) -> Int) = transformer(this)\n",
    "// Parenthesis can be omitted for last lambda\n",
    "// \"it\" is implicit for single-argument lambdas\n",
    "// return is optionnal (in majot cases)\n",
    "val count = event.transformToInt { it.length }\n",
    "println(count)"
   ],
   "outputs": [
    {
     "name": "stdout",
     "output_type": "stream",
     "text": [
      "9\r\n"
     ]
    }
   ],
   "execution_count": 4
  },
  {
   "metadata": {
    "ExecuteTime": {
     "end_time": "2024-11-12T08:46:53.984086300Z",
     "start_time": "2024-11-12T08:46:53.673347200Z"
    }
   },
   "cell_type": "code",
   "source": [
    "typealias ST = String.() -> String\n",
    "fun String.transformToString(transformer: ST) = transformer(this)\n",
    "// String.() -> String means that the lambda has access to the string as this\n",
    "// Allows to define DSL\n",
    "val uppercased = event.transformToString { uppercase() }\n",
    "print(\"Uppercased: $event\")"
   ],
   "outputs": [
    {
     "name": "stdout",
     "output_type": "stream",
     "text": [
      "Uppercased: Paris JUG"
     ]
    }
   ],
   "execution_count": 5
  },
  {
   "metadata": {
    "ExecuteTime": {
     "end_time": "2024-11-12T08:46:54.593211500Z",
     "start_time": "2024-11-12T08:46:54.027803300Z"
    }
   },
   "cell_type": "code",
   "source": [
    "// Filter, map, reduce out of the box (no need to convert to stream)\n",
    "println(\n",
    "    event.map { if (Math.random() > 0.5) it.uppercaseChar() else it.lowercaseChar() }.joinToString()\n",
    ")\n",
    "// More operators available\n",
    "println(\n",
    "    event.zip(\"2024\") { left, right -> \"$left/$right\" }\n",
    ")"
   ],
   "outputs": [
    {
     "name": "stdout",
     "output_type": "stream",
     "text": [
      "p, A, R, i, S,  , j, u, G\r\n",
      "[P/2, a/0, r/2, i/4]\r\n"
     ]
    }
   ],
   "execution_count": 6
  },
  {
   "metadata": {
    "ExecuteTime": {
     "end_time": "2024-11-12T08:46:55.067201900Z",
     "start_time": "2024-11-12T08:46:54.610120800Z"
    }
   },
   "cell_type": "code",
   "source": [
    "// ? Means that the argument can be null\n",
    "fun getUppercaseName(dev: Map<String, String>?): String {\n",
    "    if (dev == null){\n",
    "        return \"NONE\"\n",
    "    }\n",
    "    // Here dev is casted to Map<String, String>\n",
    "    // ?: is the elvis operator\n",
    "    return (dev[\"name\"] ?: \"NONE\").uppercase()\n",
    "}\n",
    "fun getUppercaseNameSe(dev: Map<String, String>?) = dev?.get(\"name\")?.uppercase() ?: \"NONE\"\n",
    "val dev = mapOf(\"name\" to \"Yassine\", \"Meetup\" to \"ParisJug\")\n",
    "println(dev)\n",
    "println(getUppercaseName(dev))\n",
    "println(getUppercaseNameSe(dev))"
   ],
   "outputs": [
    {
     "name": "stdout",
     "output_type": "stream",
     "text": [
      "{name=Yassine, Meetup=ParisJug}\r\n",
      "YASSINE\r\n",
      "YASSINE\r\n"
     ]
    }
   ],
   "execution_count": 7
  }
 ],
 "metadata": {
  "kernelspec": {
   "display_name": "Kotlin",
   "language": "kotlin",
   "name": "kotlin"
  },
  "language_info": {
   "name": "kotlin",
   "version": "1.9.23",
   "mimetype": "text/x-kotlin",
   "file_extension": ".kt",
   "pygments_lexer": "kotlin",
   "codemirror_mode": "text/x-kotlin",
   "nbconvert_exporter": ""
  }
 },
 "nbformat": 4,
 "nbformat_minor": 0
}
