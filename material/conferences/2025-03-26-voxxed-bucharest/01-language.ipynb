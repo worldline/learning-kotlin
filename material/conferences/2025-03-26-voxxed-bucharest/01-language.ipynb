{
 "cells": [
  {
   "cell_type": "markdown",
   "metadata": {},
   "source": [
    "# Kotlin Language features\n",
    "\n",
    "## Basic features"
   ]
  },
  {
   "cell_type": "code",
   "execution_count": null,
   "metadata": {},
   "outputs": [
    {
     "name": "stdout",
     "output_type": "stream",
     "text": [
      "The sum is 3\n",
      "The globalValue is -> I am a global value\n",
      "small\n",
      "small\n",
      "Français\n",
      "1\n",
      "2\n",
      "3\n",
      "6\n",
      "4\n",
      "2\n",
      "0\n",
      "Hello\n",
      "world\n"
     ]
    }
   ],
   "source": [
    "// Functions can be declared outside of classes\n",
    "fun sum(x:Int, y:Int) : Int {\n",
    "    return x + y\n",
    "} // function definition\n",
    "\n",
    "\n",
    "val globalValue = \"I am a global value\"\n",
    "\n",
    "\n",
    "var a: Int = 0 // variable (Kotlin is statically typed)\n",
    "a = 23\n",
    "\n",
    "val b: String = \"Hello\" // immutable variable\n",
    "//b = \"World\" //error\n",
    "\n",
    "var message = \"Hello\" // Type is inferred\n",
    "\n",
    "val total = sum(2, 1) // call sum function    \n",
    "println(\"The sum is ${total}\") // interpolation\n",
    "println(\"The globalValue is -> $globalValue\")\n",
    "\n",
    "val testResult1 = if (total > 3) { \n",
    "    \"Big\" \n",
    "} else {\n",
    "    \"small\"\n",
    "}  \n",
    "println(testResult1)\n",
    "\n",
    "val testResult2 = if (total > 3) \"Big\" else \"small\"\n",
    "println(testResult2)\n",
    "\n",
    "val greeting = \"Bonjour\"\n",
    "val language = when(greeting){\n",
    "    \"Bonjour\",\"salut\" -> \"Français\"\n",
    "    \"Good morning\" -> \"English\"\n",
    "    else -> \"Unknown\"\n",
    "}\n",
    "println(language)\n",
    "\n",
    "for (i in 1..3) println(i) // single line\n",
    "for (i in 6 downTo 0 step 2) println(i)\n",
    "for (msg in arrayOf(\"Hello\", \"world\")) {\n",
    "    println(msg)\n",
    "}\n",
    "var x = 2\n",
    "while (x > 0) {\n",
    "    x--\n",
    "}"
   ]
  },
  {
   "cell_type": "markdown",
   "metadata": {},
   "source": [
    "## Null safety"
   ]
  },
  {
   "cell_type": "markdown",
   "metadata": {},
   "source": [
    "### Nullables types and optional chaining"
   ]
  },
  {
   "cell_type": "code",
   "execution_count": 13,
   "metadata": {},
   "outputs": [
    {
     "name": "stdout",
     "output_type": "stream",
     "text": [
      "hello\n",
      "null\n",
      "null\n"
     ]
    }
   ],
   "source": [
    "fun runNullableDemo1() {\n",
    "    var s: String // vars must be initialized before using\n",
    "    // println(s) -> compile fails\n",
    "    s = \"hello\"\n",
    "    println(s) // ok\n",
    "    // s = null -> compile fails. Types are not nullable\n",
    "    val msg : String? = null // nullable types\n",
    "    println(msg)\n",
    "    // msg.reversed() // msg may be null -> compile ko\n",
    "    println(msg?.reversed()?.capitalize()) // return null if any part is null\n",
    "    //println(msg!!.reversed()) // tell compiler to ignore null checks -> NPE if the var is null    \n",
    "}\n",
    "\n",
    "runNullableDemo1()"
   ]
  },
  {
   "cell_type": "markdown",
   "metadata": {},
   "source": [
    "### Smart casts, elvis operator and scope functions"
   ]
  },
  {
   "cell_type": "code",
   "execution_count": 14,
   "metadata": {},
   "outputs": [
    {
     "name": "stdout",
     "output_type": "stream",
     "text": [
      "4\n",
      "6\n",
      "6\n",
      "6\n",
      "null\n"
     ]
    }
   ],
   "source": [
    "fun runSmartCastElvisScopeFnDemo(){\n",
    "    var nb: Int? = 2\n",
    "    // kotlin compiler known that nb is never null in else -> smart casting\n",
    "    val double = if (nb == null) 0 else nb * 2\n",
    "    println(double)\n",
    "\n",
    "    // shortcut of prev if using ?: elvis operator\n",
    "    val triple = nb?.times(3) ?: 0 ; println(triple)\n",
    "    //Other smart casting uses\n",
    "    if (nb is Int) {\n",
    "        println(nb.times(3))\n",
    "    }\n",
    "\n",
    "    if (nb != null) {\n",
    "        println(nb.times(3))\n",
    "    }\n",
    "\n",
    "    // the argument is unwrapped in the lamda of let\n",
    "    nb?.let { it.times(3) }\n",
    "\n",
    "    //safe cast return nullable and does not throw exception\n",
    "    val newNb = nb as? Long\n",
    "    println(newNb)\n",
    "}\n",
    "\n",
    "runSmartCastElvisScopeFnDemo()"
   ]
  },
  {
   "cell_type": "markdown",
   "metadata": {},
   "source": [
    "### Null filtering utils"
   ]
  },
  {
   "cell_type": "code",
   "execution_count": 15,
   "metadata": {},
   "outputs": [
    {
     "name": "stdout",
     "output_type": "stream",
     "text": [
      "[1, 2, 4]\n"
     ]
    }
   ],
   "source": [
    "fun runFilterNonNullDemo(){\n",
    "    // Convert nullable list to non nullable one\n",
    "    val nullableList: List<Int?> = listOf(1, 2, null, 4)\n",
    "    val intList: List<Int> = nullableList.filterNotNull()\n",
    "    println(intList)\n",
    "}\n",
    "\n",
    "runFilterNonNullDemo()"
   ]
  }
 ],
 "metadata": {
  "kernelspec": {
   "display_name": "Kotlin",
   "language": "kotlin",
   "name": "kotlin"
  },
  "language_info": {
   "codemirror_mode": "text/x-kotlin",
   "file_extension": ".kt",
   "mimetype": "text/x-kotlin",
   "name": "kotlin",
   "nbconvert_exporter": "",
   "pygments_lexer": "kotlin",
   "version": "1.9.23"
  }
 },
 "nbformat": 4,
 "nbformat_minor": 2
}
