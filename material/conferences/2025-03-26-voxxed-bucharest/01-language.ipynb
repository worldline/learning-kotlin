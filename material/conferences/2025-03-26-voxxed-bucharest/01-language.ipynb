{
 "cells": [
  {
   "cell_type": "markdown",
   "metadata": {},
   "source": [
    "# Kotlin Language features\n",
    "\n",
    "What we will cover:\n",
    "\n",
    "- Basic features\n",
    "- Null safety\n",
    "\n",
    "## Basic features"
   ]
  },
  {
   "cell_type": "code",
   "execution_count": 21,
   "metadata": {},
   "outputs": [
    {
     "name": "stdout",
     "output_type": "stream",
     "text": [
      "The sum is 3\n",
      "The globalValue is -> I am a global value\n",
      "small\n",
      "small\n",
      "Français\n",
      "1\n",
      "2\n",
      "3\n",
      "6\n",
      "4\n",
      "2\n",
      "0\n",
      "Hello\n",
      "world\n"
     ]
    }
   ],
   "source": [
    "// Functions can be declared outside of classes\n",
    "fun sum(x: Int, y: Int): Int {\n",
    "    return x + y\n",
    "} // function definition\n",
    "\n",
    "\n",
    "val globalValue = \"I am a global value\"\n",
    "\n",
    "\n",
    "var a: Int = 0 // variable (Kotlin is statically typed)\n",
    "a = 23\n",
    "\n",
    "val b: String = \"Hello\" // immutable variable\n",
    "//b = \"World\" //error\n",
    "\n",
    "var message = \"Hello\" // Type is inferred\n",
    "\n",
    "val total = sum(2, 1) // call sum function    \n",
    "println(\"The sum is ${total}\") // interpolation\n",
    "println(\"The globalValue is -> $globalValue\")\n",
    "\n",
    "val testResult1 = if (total > 3) {\n",
    "    \"Big\"\n",
    "} else {\n",
    "    \"small\"\n",
    "}\n",
    "println(testResult1)\n",
    "\n",
    "val testResult2 = if (total > 3) \"Big\" else \"small\"\n",
    "println(testResult2)\n",
    "\n",
    "val greeting = \"Bonjour\"\n",
    "val language = when (greeting) {\n",
    "    \"Bonjour\", \"salut\" -> \"Français\"\n",
    "    \"Good morning\" -> \"English\"\n",
    "    else -> \"Unknown\"\n",
    "}\n",
    "println(language)\n",
    "\n",
    "for (i in 1..3) println(i) // single line\n",
    "for (i in 6 downTo 0 step 2) println(i)\n",
    "for (msg in arrayOf(\"Hello\", \"world\")) {\n",
    "    println(msg)\n",
    "}\n",
    "var x = 2\n",
    "while (x > 0) {\n",
    "    x--\n",
    "}"
   ]
  },
  {
   "cell_type": "markdown",
   "metadata": {},
   "source": [
    "## Functions and lambdas\n",
    "\n",
    "- Functions can be declared outside of classes (global functions)\n",
    "- One-line functions can be declared with the `=` operator\n",
    "- Functions can be assigned to variables, passed as arguments, or returned from other functions."
   ]
  },
  {
   "cell_type": "code",
   "execution_count": 22,
   "metadata": {},
   "outputs": [
    {
     "name": "stdout",
     "output_type": "stream",
     "text": [
      "24\n",
      "Bonjour. We are in 10/2017\n",
      "Hello. We are in 1/2018\n",
      "Konnichiwa. We are in 1/2018\n"
     ]
    }
   ],
   "source": [
    "fun sum(x:Int, y:Int) : Int {\n",
    "    return x + y\n",
    "}\n",
    "\n",
    "//One-line function\n",
    "fun mult(x:Int, y: Int) = x * y\n",
    "\n",
    "fun greet(year: Int = 2018, month: Int = 1, message: String = \"Hello\") : String {\n",
    "    return \"${message}. We are in ${month}/${year}\"\n",
    "}\n",
    "\n",
    "// calculate takes a function as a paramter\n",
    "fun calculate(x: Int, y: Int, f: (Int, Int) -> Int) : Int{\n",
    "    return f(x, y)\n",
    "} \n",
    "\n",
    "val a = sum(2, 1) // call sum function\n",
    "println(mult(a, y = 8)) // we can name parameters\n",
    "\n",
    "println(greet(2017, 10, \"Bonjour\")) //Bonjour. We are in 10/2017\n",
    "println(greet()) //Hello. We are in 1/2018\n",
    "println(greet(2018, message = \"Konnichiwa\"))"
   ]
  },
  {
   "cell_type": "markdown",
   "metadata": {},
   "source": [
    "- Functions can be passed as arguments to other functions in many ways"
   ]
  },
  {
   "cell_type": "code",
   "execution_count": 23,
   "metadata": {},
   "outputs": [
    {
     "data": {
      "text/plain": [
       "14"
      ]
     },
     "execution_count": 23,
     "metadata": {},
     "output_type": "execute_result"
    }
   ],
   "source": [
    "calculate(9, 5, ::sum) // 14"
   ]
  },
  {
   "cell_type": "code",
   "execution_count": 24,
   "metadata": {},
   "outputs": [
    {
     "name": "stdout",
     "output_type": "stream",
     "text": [
      "1\n"
     ]
    }
   ],
   "source": [
    "fun divide(x:Int, y: Int) = x / y\n",
    "println(calculate(9, 5, ::divide))"
   ]
  },
  {
   "cell_type": "markdown",
   "metadata": {},
   "source": [
    "- Lambdas are a way to define functions inline"
   ]
  },
  {
   "cell_type": "code",
   "execution_count": 25,
   "metadata": {},
   "outputs": [
    {
     "data": {
      "text/plain": [
       "4"
      ]
     },
     "execution_count": 25,
     "metadata": {},
     "output_type": "execute_result"
    }
   ],
   "source": [
    "val f = {x: Int, y: Int -> x - y}\n",
    "calculate(9, 5, f)"
   ]
  },
  {
   "cell_type": "code",
   "execution_count": 26,
   "metadata": {},
   "outputs": [
    {
     "data": {
      "text/plain": [
       "45"
      ]
     },
     "execution_count": 26,
     "metadata": {},
     "output_type": "execute_result"
    }
   ],
   "source": [
    "calculate(9, 5, { x, y -> x * y } )"
   ]
  },
  {
   "cell_type": "markdown",
   "metadata": {},
   "source": [
    "- The last lambda argument can be moved outside of the parentheses"
   ]
  },
  {
   "cell_type": "code",
   "execution_count": 27,
   "metadata": {},
   "outputs": [
    {
     "data": {
      "text/plain": [
       "45"
      ]
     },
     "execution_count": 27,
     "metadata": {},
     "output_type": "execute_result"
    }
   ],
   "source": [
    "calculate(9, 5) { x, y -> x * y }  // 45"
   ]
  },
  {
   "cell_type": "markdown",
   "metadata": {},
   "source": [
    "- Kotlin provides out of the box support for collection operations like `map`, `filter`, `reduce`, etc."
   ]
  },
  {
   "cell_type": "code",
   "execution_count": 28,
   "metadata": {},
   "outputs": [
    {
     "name": "stdout",
     "output_type": "stream",
     "text": [
      "Filtered names LEEDNAT, GIERWYST, CLAAMPARAIRT, GUFAPRAAM, RIEMAPRAST\n",
      "Vowel count: 31\n",
      "Vowel count: 31\n"
     ]
    }
   ],
   "source": [
    "val fantasyNames = listOf(\"Clebbrer\", \"Sninjur\", \"Moddnaac\", \"Leednat\" ,\"Gierwyst\", \"Zevurig\", \"Claamparairt\", \"Gufapraam\", \"Riemaprast\", \"Bilanjom\")\n",
    "\n",
    "// find names that start with \"G\" or end with \"t\" and return them as capital letters\n",
    "val selectedNames = fantasyNames.filter { it.startsWith('G') || it.endsWith('t') }.map { it.toUpperCase() }\n",
    "println(\"Filtered names ${selectedNames.joinToString(\", \")}\")\n",
    "\n",
    "// count the number of vowels\n",
    "// flapmap allows to convert a 2d array to a 1d array by concatenating the elements (called a flat operation)\n",
    "val vowelCount = fantasyNames.flatMap{ it.toList() }.filter{ \"aiueo\".contains(it) }.map { 1 }.sum()\n",
    "val vowelCount2 = fantasyNames.flatMap{ it.toList() }\n",
    "    .map{ if (\"aiueo\".contains(it)) 1 else 0 }\n",
    "    .reduce { acc, current -> acc + current }\n",
    "\n",
    "println(\"Vowel count: $vowelCount\")\n",
    "println(\"Vowel count: $vowelCount2\")"
   ]
  },
  {
   "cell_type": "markdown",
   "metadata": {},
   "source": [
    "## Null safety"
   ]
  },
  {
   "cell_type": "markdown",
   "metadata": {},
   "source": [
    "### Nullables types and optional chaining"
   ]
  },
  {
   "cell_type": "code",
   "execution_count": 29,
   "metadata": {},
   "outputs": [
    {
     "name": "stdout",
     "output_type": "stream",
     "text": [
      "hello\n",
      "null\n",
      "null\n"
     ]
    }
   ],
   "source": [
    "fun runNullableDemo1() {\n",
    "    var s: String // vars must be initialized before using\n",
    "    // println(s) -> compile fails\n",
    "    s = \"hello\"\n",
    "    println(s) // ok\n",
    "    // s = null -> compile fails. Types are not nullable\n",
    "    val msg: String? = null // nullable types\n",
    "    println(msg)\n",
    "    // msg.reversed() // msg may be null -> compile ko\n",
    "    println(msg?.reversed()?.capitalize()) // return null if any part is null\n",
    "    //println(msg!!.reversed()) // tell compiler to ignore null checks -> NPE if the var is null    \n",
    "}\n",
    "\n",
    "runNullableDemo1()"
   ]
  },
  {
   "cell_type": "markdown",
   "metadata": {},
   "source": [
    "### Smart casts, elvis operator and scope functions"
   ]
  },
  {
   "cell_type": "code",
   "execution_count": 30,
   "metadata": {},
   "outputs": [
    {
     "name": "stdout",
     "output_type": "stream",
     "text": [
      "4\n",
      "6\n",
      "6\n",
      "6\n",
      "null\n"
     ]
    }
   ],
   "source": [
    "fun runSmartCastElvisScopeFnDemo() {\n",
    "    var nb: Int? = 2\n",
    "    // kotlin compiler known that nb is never null in else -> smart casting\n",
    "    val double = if (nb == null) 0 else nb * 2\n",
    "    println(double)\n",
    "\n",
    "    // shortcut of prev if using ?: elvis operator\n",
    "    val triple = nb?.times(3) ?: 0; println(triple)\n",
    "    //Other smart casting uses\n",
    "    if (nb is Int) {\n",
    "        println(nb.times(3))\n",
    "    }\n",
    "\n",
    "    if (nb != null) {\n",
    "        println(nb.times(3))\n",
    "    }\n",
    "\n",
    "    // the argument is unwrapped in the lamda of let\n",
    "    nb?.let { it.times(3) }\n",
    "\n",
    "    //safe cast return nullable and does not throw exception\n",
    "    val newNb = nb as? Long\n",
    "    println(newNb)\n",
    "}\n",
    "\n",
    "runSmartCastElvisScopeFnDemo()"
   ]
  },
  {
   "cell_type": "markdown",
   "metadata": {},
   "source": [
    "### Null filtering utils"
   ]
  },
  {
   "cell_type": "code",
   "execution_count": 31,
   "metadata": {},
   "outputs": [
    {
     "name": "stdout",
     "output_type": "stream",
     "text": [
      "[1, 2, 4]\n"
     ]
    }
   ],
   "source": [
    "fun runFilterNonNullDemo() {\n",
    "    // Convert nullable list to non nullable one\n",
    "    val nullableList: List<Int?> = listOf(1, 2, null, 4)\n",
    "    val intList: List<Int> = nullableList.filterNotNull()\n",
    "    println(intList)\n",
    "}\n",
    "\n",
    "runFilterNonNullDemo()"
   ]
  }
 ],
 "metadata": {
  "kernelspec": {
   "display_name": "Kotlin",
   "language": "kotlin",
   "name": "kotlin"
  },
  "language_info": {
   "codemirror_mode": "text/x-kotlin",
   "file_extension": ".kt",
   "mimetype": "text/x-kotlin",
   "name": "kotlin",
   "nbconvert_exporter": "",
   "pygments_lexer": "kotlin",
   "version": "1.9.23"
  }
 },
 "nbformat": 4,
 "nbformat_minor": 2
}
