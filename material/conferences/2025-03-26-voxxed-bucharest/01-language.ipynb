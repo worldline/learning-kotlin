{
 "cells": [
  {
   "cell_type": "markdown",
   "metadata": {},
   "source": [
    "# Kotlin Language features\n",
    "\n",
    "## Basic features"
   ]
  },
  {
   "cell_type": "code",
   "execution_count": 3,
   "metadata": {},
   "outputs": [
    {
     "name": "stdout",
     "output_type": "stream",
     "text": [
      "The sum is 3\n",
      "The globalValue is -> I am a global value\n",
      "small\n",
      "small\n",
      "Français\n",
      "1\n",
      "2\n",
      "3\n",
      "6\n",
      "4\n",
      "2\n",
      "0\n",
      "Hello\n",
      "world\n"
     ]
    }
   ],
   "source": [
    "// Functions can be declared outside of classes\n",
    "fun sum(x:Int, y:Int) : Int {\n",
    "    return x + y\n",
    "} // function definition\n",
    "\n",
    "\n",
    "val globalValue = \"I am a global value\"\n",
    "\n",
    "\n",
    "var a: Int = 0 // variable\n",
    "a = 23\n",
    "\n",
    "val b: String = \"Hello\" // immutable variable\n",
    "//b = \"World\" //error\n",
    "\n",
    "var message = \"Hello\" // Type is inferred\n",
    "\n",
    "val total = sum(2, 1) // call sum function    \n",
    "println(\"The sum is ${total}\") // interpolation\n",
    "println(\"The globalValue is -> $globalValue\")\n",
    "\n",
    "val testResult1 = if (total > 3) { \n",
    "    \"Big\" \n",
    "} else {\n",
    "    \"small\"\n",
    "}  \n",
    "println(testResult1)\n",
    "\n",
    "val testResult2 = if (total > 3) \"Big\" else \"small\"\n",
    "println(testResult2)\n",
    "\n",
    "val greeting = \"Bonjour\"\n",
    "val language = when(greeting){\n",
    "    \"Bonjour\",\"salut\" -> \"Français\"\n",
    "    \"Good morning\" -> \"English\"\n",
    "    else -> \"Unknown\"\n",
    "}\n",
    "println(language)\n",
    "\n",
    "for (i in 1..3) println(i) // single line\n",
    "for (i in 6 downTo 0 step 2) println(i)\n",
    "for (msg in arrayOf(\"Hello\", \"world\")) {\n",
    "    println(msg)\n",
    "}\n",
    "var x = 2\n",
    "while (x > 0) {\n",
    "    x--\n",
    "}"
   ]
  },
  {
   "cell_type": "markdown",
   "metadata": {},
   "source": [
    "## Null safety"
   ]
  }
 ],
 "metadata": {
  "kernelspec": {
   "display_name": "Kotlin",
   "language": "kotlin",
   "name": "kotlin"
  },
  "language_info": {
   "codemirror_mode": "text/x-kotlin",
   "file_extension": ".kt",
   "mimetype": "text/x-kotlin",
   "name": "kotlin",
   "nbconvert_exporter": "",
   "pygments_lexer": "kotlin",
   "version": "1.9.23"
  }
 },
 "nbformat": 4,
 "nbformat_minor": 2
}
