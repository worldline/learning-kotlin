{
 "cells": [
  {
   "cell_type": "markdown",
   "metadata": {},
   "source": [
    "# Object Oriented Programming\n",
    "\n",
    "- Classes can fit in one line\n",
    "- `val` generates read-only properties\n",
    "- `var` generates mutable properties\n",
    "- getters and setters are generated automatically"
   ]
  },
  {
   "cell_type": "code",
   "execution_count": 10,
   "metadata": {},
   "outputs": [
    {
     "name": "stdout",
     "output_type": "stream",
     "text": [
      "1000\n"
     ]
    }
   ],
   "source": [
    "class SpaceShip(val maxSpeed: Int, var currentSpeed: Int = 0)\n",
    "val ship1 = SpaceShip(1000, 0)\n",
    "println(ship1.maxSpeed)"
   ]
  },
  {
   "cell_type": "markdown",
   "metadata": {},
   "source": [
    "- `open`: allows inheritance, because classes and properties are final by default\n",
    "- `init` is the constructor"
   ]
  },
  {
   "cell_type": "code",
   "execution_count": 11,
   "metadata": {},
   "outputs": [
    {
     "name": "stdout",
     "output_type": "stream",
     "text": [
      "constructor called\n",
      "Line_10_jupyter$InhabitedPlanet@4b850649\n",
      "6371\n",
      "7753000000000\n",
      "7753000000001\n",
      "7753\n",
      "7753000000101\n",
      "7753\n"
     ]
    }
   ],
   "source": [
    "open class Planet(open val radius: Long) {\n",
    "    var rotationSpeed = 0\n",
    "    \n",
    "    // Read-only computed property\n",
    "    val radiusInMeter: Long \n",
    "    \tget() = radius * 1000\n",
    "}\n",
    "class InhabitedPlanet(override val radius: Long, var population: Long): Planet(radius) {\n",
    "    init { println(\"constructor called\") }\n",
    "    \n",
    "    // We can customize the getter and the setter of a propoerty\n",
    "    var populationInBillion: Int\n",
    "    get() = (population / 1_000_000_000).toInt()\n",
    "    set(value) {\n",
    "        population = value.toLong() * 1_000_000_000\n",
    "    }\n",
    "    \n",
    "    fun increasePopulation(amount: Long){\n",
    "        population += amount\n",
    "    }       \n",
    "}\n",
    "\n",
    "val earth = InhabitedPlanet(6_371, 7_753_000_000_000)\n",
    "println(earth)\n",
    "println(earth.radius)\n",
    "println(earth.population)\n",
    "earth.population += 1\n",
    "println(earth.population)\n",
    "println(earth.populationInBillion)\n",
    "\n",
    "earth.increasePopulation(100)\n",
    "println(earth.population)\n",
    "println(earth.populationInBillion)"
   ]
  },
  {
   "cell_type": "markdown",
   "metadata": {},
   "source": [
    "Extensions add methods and properties to existing classes. Even ones that we didn't define."
   ]
  },
  {
   "cell_type": "code",
   "execution_count": 12,
   "metadata": {},
   "outputs": [
    {
     "name": "stdout",
     "output_type": "stream",
     "text": [
      "2\n",
      "true\n"
     ]
    }
   ],
   "source": [
    " fun String.countLetters(letters: Array<Char>): Int \n",
    "\t= this.filter { letters.contains(it) }.map { 1 }.sum()\n",
    "            \n",
    "val InhabitedPlanet.hasInhabitants: Boolean \n",
    "\tget() = population > 0\n",
    "    \n",
    "println(\"Hello\".countLetters(arrayOf('H', 'e')))\n",
    "println(earth.hasInhabitants)"
   ]
  },
  {
   "cell_type": "markdown",
   "metadata": {},
   "source": [
    "- `data class` are final classes that generate many useful boilerplate code (`hashCode`, `equals`, `copy`, `toString` and `componentN`)"
   ]
  },
  {
   "cell_type": "code",
   "execution_count": null,
   "metadata": {},
   "outputs": [],
   "source": [
    "data class SpaceShip(val maxSpeed: Int, var currentSpeed: Int = 0)\n",
    "\n",
    "val ship1 = SpaceShip(1000, 0)\n",
    "val ship2 = SpaceShip(1000, 0)\n",
    "val ship3 = SpaceShip(1000, 10)\n",
    "println(ship1)\n",
    "println(ship1 == ship2)\n",
    "println(ship1 == ship3)\n",
    "\n",
    "println(ship1.component1())\n",
    "println(ship1.component2())\n",
    "\n",
    "// components enable destructuring\n",
    "val (maxSpeed, currentSpeed) = ship2\n",
    "println(\"Max speed: $maxSpeed. Current speed: $currentSpeed\")"
   ]
  }
 ],
 "metadata": {
  "kernelspec": {
   "display_name": "Kotlin",
   "language": "kotlin",
   "name": "kotlin"
  },
  "language_info": {
   "codemirror_mode": "text/x-kotlin",
   "file_extension": ".kt",
   "mimetype": "text/x-kotlin",
   "name": "kotlin",
   "nbconvert_exporter": "",
   "pygments_lexer": "kotlin",
   "version": "1.9.23"
  }
 },
 "nbformat": 4,
 "nbformat_minor": 2
}
