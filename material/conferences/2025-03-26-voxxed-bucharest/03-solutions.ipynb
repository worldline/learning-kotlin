{
 "cells": [
  {
   "metadata": {},
   "cell_type": "markdown",
   "source": "# Exercises solutions"
  },
  {
   "metadata": {},
   "cell_type": "markdown",
   "source": "1. Declare a function called `countVowels` that takes a String argument and returns its number of vowels (a, u, i , e, o). Please use a foor loop."
  },
  {
   "metadata": {
    "ExecuteTime": {
     "end_time": "2025-03-21T13:56:47.347740700Z",
     "start_time": "2025-03-21T13:56:43.627870Z"
    }
   },
   "cell_type": "code",
   "source": [
    "fun countVowels(text: String): Int {\n",
    "    var count = 0\n",
    "    for (c in text) {\n",
    "        if (\"auieoy\".contains(c)) {\n",
    "            count += 1\n",
    "        }\n",
    "    }\n",
    "    return count\n",
    "}\n",
    "\n",
    "println(countVowels(\"Hello\"))\n",
    "println(countVowels(\"World\"))"
   ],
   "outputs": [],
   "execution_count": 1
  },
  {
   "metadata": {},
   "cell_type": "markdown",
   "source": "2. Complete the following code (hint: you can use the max method).\n"
  },
  {
   "metadata": {
    "ExecuteTime": {
     "end_time": "2025-03-21T13:56:49.014660400Z",
     "start_time": "2025-03-21T13:56:47.393814600Z"
    }
   },
   "cell_type": "code",
   "source": [
    "fun printMax(items: Array<Int>?) {\n",
    "    if (items.isNullOrEmpty()) {\n",
    "        println(0)\n",
    "        return\n",
    "    }\n",
    "    var max = items.first()\n",
    "    for (item in items) {\n",
    "        if (item > max) {\n",
    "            max = item\n",
    "        }\n",
    "    }\n",
    "    println(max)\n",
    "}\n",
    "\n",
    "fun runExercise(items: Array<Int>?) {\n",
    "    if (items.isNullOrEmpty()) {\n",
    "        println(\"null or empty arrray\")\n",
    "        return\n",
    "    }\n",
    "    printMax(items)\n",
    "    // Print, the second item of the array if it exists\n",
    "    if (items.size >= 2) {\n",
    "        println(\"second item: ${items[2]}\")\n",
    "    }\n",
    "    // Print the sum of the first and last items (hint: `first()` and `last()` methods)\n",
    "    println(\"sum of first and last ${items.first() + items.last()}\")\n",
    "}\n",
    "runExercise(arrayOf(1, 2, 2))\n",
    "runExercise(null)\n",
    "runExercise(arrayOf(1))\n",
    "runExercise(arrayOf(15, 6, 8, 22))"
   ],
   "outputs": [
    {
     "name": "stdout",
     "output_type": "stream",
     "text": [
      "2\r\n",
      "second item: 2\r\n",
      "sum of first and last 3\r\n",
      "null or empty arrray\r\n",
      "1\r\n",
      "sum of first and last 2\r\n",
      "22\r\n",
      "second item: 8\r\n",
      "sum of first and last 37\r\n"
     ]
    }
   ],
   "execution_count": 2
  }
 ],
 "metadata": {
  "kernelspec": {
   "display_name": "Kotlin",
   "language": "kotlin",
   "name": "kotlin"
  },
  "language_info": {
   "name": "kotlin",
   "version": "1.9.23",
   "mimetype": "text/x-kotlin",
   "file_extension": ".kt",
   "pygments_lexer": "kotlin",
   "codemirror_mode": "text/x-kotlin",
   "nbconvert_exporter": ""
  }
 },
 "nbformat": 4,
 "nbformat_minor": 0
}
