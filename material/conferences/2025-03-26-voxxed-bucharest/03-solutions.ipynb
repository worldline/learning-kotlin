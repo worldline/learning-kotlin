{
 "cells": [
  {
   "cell_type": "markdown",
   "metadata": {},
   "source": [
    "# Exercises\n",
    "\n",
    "1. Declare a function called `countVowels` that takes a String argument and returns its number of vowels (a, u, i , e, o). Please use a foor loop.\n",
    "1. Complete the following code (hint: you can use the max method).  \n",
    "\n",
    "    ```kotlin\n",
    "    fun printMax(items: Array<Int>?){\n",
    "    \n",
    "    }\n",
    "    \n",
    "    fun runExercise(items: Array<Int>?){\n",
    "        var \n",
    "        items = arrayOf(1, 2, 2)\n",
    "        printMax(items)\n",
    "        // Print, the second item of the array if it exists\n",
    "\n",
    "        // Print the sum of the first and last items (hint: `first()` and `last()` methods)\n",
    "    }\n",
    "    runExercise(arrayOf(1, 2, 2))\n",
    "    runExercise(null)\n",
    "    runExercise(arrayOf(1))\n",
    "    runExercise(arrayOf(15, 6, 8, 22))\n",
    "    ```"
   ]
  }
 ],
 "metadata": {
  "language_info": {
   "name": "python"
  }
 },
 "nbformat": 4,
 "nbformat_minor": 2
}
