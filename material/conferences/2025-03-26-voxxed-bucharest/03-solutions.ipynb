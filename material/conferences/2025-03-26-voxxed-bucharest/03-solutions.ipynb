{
 "cells": [
  {
   "cell_type": "markdown",
   "metadata": {},
   "source": [
    "# Exercises solutions"
   ]
  },
  {
   "cell_type": "markdown",
   "metadata": {},
   "source": [
    "1. Declare a function called `countVowels` that takes a String argument and returns its number of vowels (a, u, i , e, o). Please use a foor loop."
   ]
  },
  {
   "cell_type": "code",
   "execution_count": 2,
   "metadata": {
    "ExecuteTime": {
     "end_time": "2025-03-21T13:56:47.347740700Z",
     "start_time": "2025-03-21T13:56:43.627870Z"
    }
   },
   "outputs": [
    {
     "name": "stdout",
     "output_type": "stream",
     "text": [
      "2\n",
      "1\n"
     ]
    }
   ],
   "source": [
    "fun countVowels(text: String): Int {\n",
    "    var count = 0\n",
    "    for (c in text) {\n",
    "        if (\"auieoy\".contains(c)) {\n",
    "            count += 1\n",
    "        }\n",
    "    }\n",
    "    return count\n",
    "}\n",
    "\n",
    "println(countVowels(\"Hello\"))\n",
    "println(countVowels(\"World\"))"
   ]
  },
  {
   "cell_type": "markdown",
   "metadata": {},
   "source": [
    "2. Complete the following code (hint: you can use the max method).\n"
   ]
  },
  {
   "cell_type": "code",
   "execution_count": 1,
   "metadata": {
    "ExecuteTime": {
     "end_time": "2025-03-21T13:56:49.014660400Z",
     "start_time": "2025-03-21T13:56:47.393814600Z"
    }
   },
   "outputs": [
    {
     "name": "stdout",
     "output_type": "stream",
     "text": [
      "2\n",
      "second item: 2\n",
      "sum of first and last 3\n",
      "null or empty arrray\n",
      "1\n",
      "sum of first and last 2\n",
      "22\n",
      "second item: 8\n",
      "sum of first and last 37\n"
     ]
    }
   ],
   "source": [
    "fun printMax(items: Array<Int>?) {\n",
    "    if (items.isNullOrEmpty()) {\n",
    "        println(0)\n",
    "        return\n",
    "    }\n",
    "    var max = items.first()\n",
    "    for (item in items) {\n",
    "        if (item > max) {\n",
    "            max = item\n",
    "        }\n",
    "    }\n",
    "    println(max)\n",
    "}\n",
    "\n",
    "fun runExercise(items: Array<Int>?) {\n",
    "    if (items.isNullOrEmpty()) {\n",
    "        println(\"null or empty arrray\")\n",
    "        return\n",
    "    }\n",
    "    printMax(items)\n",
    "    // Print, the second item of the array if it exists\n",
    "    if (items.size >= 2) {\n",
    "        println(\"second item: ${items[2]}\")\n",
    "    }\n",
    "    // Print the sum of the first and last items (hint: `first()` and `last()` methods)\n",
    "    println(\"sum of first and last ${items.first() + items.last()}\")\n",
    "}\n",
    "runExercise(arrayOf(1, 2, 2))\n",
    "runExercise(null)\n",
    "runExercise(arrayOf(1))\n",
    "runExercise(arrayOf(15, 6, 8, 22))"
   ]
  }
 ],
 "metadata": {
  "kernelspec": {
   "display_name": "Kotlin",
   "language": "kotlin",
   "name": "kotlin"
  },
  "language_info": {
   "codemirror_mode": "text/x-kotlin",
   "file_extension": ".kt",
   "mimetype": "text/x-kotlin",
   "name": "kotlin",
   "nbconvert_exporter": "",
   "pygments_lexer": "kotlin",
   "version": "1.9.23"
  }
 },
 "nbformat": 4,
 "nbformat_minor": 0
}
