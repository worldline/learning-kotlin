{
 "cells": [
  {
   "cell_type": "markdown",
   "metadata": {},
   "source": [
    "# Kotlin and Java interoperability\n",
    "\n",
    "- Kotlin is designed with Java interoperability in mind.\n",
    "- Kotlin code may require some annotations to be called from Java.\n",
    "- It is possible to mix Java and Kotlin in the same project.\n",
    "- JetBrain's IntelliJ and Android Studio can convert to Kotlin when pasting Java code.\n",
    "- Kotlin generates Java records by annotating a data class with `@JvmRecord` and targeting JVM 16, among other requirements [listed here](https://kotlinlang.org/docs/jvm-records.html).\n",
    "- It is much easier and more natural to call Java from Kotlin.\n",
    "  - For example: Java accessors are converted to Kotlin properties.\n",
    "\n",
    "The following code shows how to convert a Kotlin List to a Java ArrayList."
   ]
  },
  {
   "cell_type": "code",
   "execution_count": null,
   "metadata": {
    "vscode": {
     "languageId": "kotlin"
    }
   },
   "outputs": [],
   "source": [
    "import java.util.*\n",
    "fun convertToArrayList(items: List<Int>): ArrayList<Int> {\n",
    "    // instantiate as in Java without 'new'\n",
    "    val list = ArrayList<Int>()\n",
    "    // 'for'-loops work for Java collections:\n",
    "    for (item in items) { \n",
    "        list.add(item)\n",
    "    }\n",
    "    \n",
    "    for (i in 0..items.size - 1) {\n",
    "        list[i] = items[i]\n",
    "    }\n",
    "    return list\n",
    "}\n",
    "\n",
    "val list = convertToArrayList(listOf(0, 2, -1))\n",
    "println(\"list: ${list}. type: ${list::class.qualifiedName}\")\n",
    "//list: [0, 2, -1]. type: java.util.ArrayList"
   ]
  }
 ],
 "metadata": {
  "language_info": {
   "name": "python"
  }
 },
 "nbformat": 4,
 "nbformat_minor": 2
}
